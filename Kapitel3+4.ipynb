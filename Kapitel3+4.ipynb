{
 "cells": [
  {
   "cell_type": "markdown",
   "id": "3ca6bf92-f353-4d11-ab71-eabca1bb1c9b",
   "metadata": {},
   "source": [
    "# This is my notebook"
   ]
  },
  {
   "cell_type": "markdown",
   "id": "1a630b8b-a970-4cb4-8c78-06ed6ae3c330",
   "metadata": {
    "jp-MarkdownHeadingCollapsed": true
   },
   "source": [
    "## Section 1\n",
    "Hello"
   ]
  },
  {
   "cell_type": "markdown",
   "id": "8dbee4f2-e123-4024-91bc-067fa5ed7fc9",
   "metadata": {},
   "source": [
    "### List\n",
    "- Item 1\n",
    "- Item 2"
   ]
  },
  {
   "cell_type": "markdown",
   "id": "a78fc435-ead4-47c3-bca0-1062261fa37a",
   "metadata": {
    "jp-MarkdownHeadingCollapsed": true
   },
   "source": [
    "My name is **Louise**\n",
    "\n",
    "_Italics_"
   ]
  },
  {
   "cell_type": "markdown",
   "id": "c8657d03-98b8-445c-80d1-0f6459c837e9",
   "metadata": {},
   "source": [
    "## Variables"
   ]
  },
  {
   "cell_type": "markdown",
   "id": "11046ed9-2ab9-4cf4-8942-a5e7bbfc012d",
   "metadata": {},
   "source": [
    "### Regular variables (primatives)"
   ]
  },
  {
   "cell_type": "code",
   "execution_count": 3,
   "id": "a0d1e225-8d56-4035-b24f-7a35398fe59a",
   "metadata": {},
   "outputs": [],
   "source": [
    "a = \"duck\""
   ]
  },
  {
   "cell_type": "markdown",
   "id": "b86a2d6c-d9dd-4b39-a624-acb46fc2451d",
   "metadata": {},
   "source": [
    "The variable is a string. Quotation marks around characters"
   ]
  },
  {
   "cell_type": "code",
   "execution_count": 4,
   "id": "62a87d27-e51e-4ad0-9785-aadcc23877c6",
   "metadata": {},
   "outputs": [
    {
     "name": "stdout",
     "output_type": "stream",
     "text": [
      "duck\n"
     ]
    }
   ],
   "source": [
    "print (a)"
   ]
  },
  {
   "cell_type": "code",
   "execution_count": 7,
   "id": "cbe8218e-6665-41de-a3c4-5d67184f107f",
   "metadata": {},
   "outputs": [
    {
     "data": {
      "text/plain": [
       "str"
      ]
     },
     "execution_count": 7,
     "metadata": {},
     "output_type": "execute_result"
    }
   ],
   "source": [
    "type (a)"
   ]
  },
  {
   "cell_type": "code",
   "execution_count": 11,
   "id": "e971e8f9-e652-44fa-9cbf-3fe49f49e482",
   "metadata": {},
   "outputs": [],
   "source": [
    "a=55"
   ]
  },
  {
   "cell_type": "code",
   "execution_count": 12,
   "id": "cbb27e94-3f5d-47ff-a000-834c80ed9e6a",
   "metadata": {},
   "outputs": [
    {
     "name": "stdout",
     "output_type": "stream",
     "text": [
      "55\n"
     ]
    }
   ],
   "source": [
    "print (a)"
   ]
  },
  {
   "cell_type": "code",
   "execution_count": 5,
   "id": "c7f2ec02-6ec1-42fd-9ec3-8a2a63d90ea5",
   "metadata": {},
   "outputs": [],
   "source": [
    "b = 2"
   ]
  },
  {
   "cell_type": "code",
   "execution_count": 6,
   "id": "5c490971-3160-4be7-9def-665c945a5111",
   "metadata": {},
   "outputs": [
    {
     "data": {
      "text/plain": [
       "int"
      ]
     },
     "execution_count": 6,
     "metadata": {},
     "output_type": "execute_result"
    }
   ],
   "source": [
    "type(b)"
   ]
  },
  {
   "cell_type": "markdown",
   "id": "20095b07-e835-4662-aad1-f09e3bad3ddc",
   "metadata": {},
   "source": [
    "The variable is an integer. A regular number"
   ]
  },
  {
   "cell_type": "code",
   "execution_count": 9,
   "id": "0b478151-8fce-4229-af53-2fb4777e5b28",
   "metadata": {},
   "outputs": [],
   "source": [
    "c = 3.1415"
   ]
  },
  {
   "cell_type": "code",
   "execution_count": 10,
   "id": "2f5e3382-e661-497c-bc5e-c20319b3e40c",
   "metadata": {},
   "outputs": [
    {
     "data": {
      "text/plain": [
       "float"
      ]
     },
     "execution_count": 10,
     "metadata": {},
     "output_type": "execute_result"
    }
   ],
   "source": [
    "type(c)"
   ]
  },
  {
   "cell_type": "markdown",
   "id": "b1935769-1bd9-4e9c-815c-824a186fef43",
   "metadata": {},
   "source": [
    "The variable is a float. Numbers with decimals"
   ]
  },
  {
   "cell_type": "code",
   "execution_count": 13,
   "id": "f219f8f8-3c88-48fa-ab71-6b34a094d198",
   "metadata": {},
   "outputs": [
    {
     "data": {
      "text/plain": [
       "57"
      ]
     },
     "execution_count": 13,
     "metadata": {},
     "output_type": "execute_result"
    }
   ],
   "source": [
    "a+b"
   ]
  },
  {
   "cell_type": "code",
   "execution_count": 15,
   "id": "49228c9d-a6c0-43a4-91e4-68e60cfaa67e",
   "metadata": {},
   "outputs": [],
   "source": [
    "d = \"walk\""
   ]
  },
  {
   "cell_type": "code",
   "execution_count": 17,
   "id": "e578df5f-65e1-44ec-9446-2f68e51a7960",
   "metadata": {
    "scrolled": true
   },
   "outputs": [
    {
     "data": {
      "text/plain": [
       "'walkwalk'"
      ]
     },
     "execution_count": 17,
     "metadata": {},
     "output_type": "execute_result"
    }
   ],
   "source": [
    "b*d"
   ]
  },
  {
   "cell_type": "code",
   "execution_count": 21,
   "id": "dca74769-90df-47bc-9dc6-669f961c7f81",
   "metadata": {},
   "outputs": [
    {
     "data": {
      "text/plain": [
       "'walk2'"
      ]
     },
     "execution_count": 21,
     "metadata": {},
     "output_type": "execute_result"
    }
   ],
   "source": [
    "d+str(b)"
   ]
  },
  {
   "cell_type": "code",
   "execution_count": 22,
   "id": "7175e889-a124-4c27-a479-9d9911e25a34",
   "metadata": {},
   "outputs": [
    {
     "data": {
      "text/plain": [
       "58"
      ]
     },
     "execution_count": 22,
     "metadata": {},
     "output_type": "execute_result"
    }
   ],
   "source": [
    "a+int(c)"
   ]
  },
  {
   "cell_type": "markdown",
   "id": "d58f171e-409d-43ac-af90-95eafe7d6268",
   "metadata": {},
   "source": [
    "## Loops"
   ]
  },
  {
   "cell_type": "code",
   "execution_count": null,
   "id": "67b4c077-28d3-4eb1-a2a8-f9cb28602134",
   "metadata": {},
   "outputs": [],
   "source": []
  },
  {
   "cell_type": "code",
   "execution_count": null,
   "id": "d07b26d1-3e88-44a8-8bbe-29e9ea617b90",
   "metadata": {},
   "outputs": [],
   "source": []
  },
  {
   "cell_type": "markdown",
   "id": "453cc7bb-7d51-4965-a97f-4ca862f040b7",
   "metadata": {},
   "source": [
    "## Conditionals"
   ]
  },
  {
   "cell_type": "code",
   "execution_count": null,
   "id": "ce83738c-9d14-418e-b35c-ec4b2972a473",
   "metadata": {},
   "outputs": [],
   "source": []
  },
  {
   "cell_type": "code",
   "execution_count": null,
   "id": "8dc3713d-9cd2-411e-9357-be8c966d691a",
   "metadata": {},
   "outputs": [],
   "source": []
  }
 ],
 "metadata": {
  "kernelspec": {
   "display_name": "Python 3 ",
   "language": "python",
   "name": "python3"
  },
  "language_info": {
   "codemirror_mode": {
    "name": "ipython",
    "version": 3
   },
   "file_extension": ".py",
   "mimetype": "text/x-python",
   "name": "python",
   "nbconvert_exporter": "python",
   "pygments_lexer": "ipython3",
   "version": "3.10.14"
  }
 },
 "nbformat": 4,
 "nbformat_minor": 5
}
