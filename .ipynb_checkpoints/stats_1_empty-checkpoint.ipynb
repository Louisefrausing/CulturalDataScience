{
 "cells": [
  {
   "cell_type": "markdown",
   "id": "1a846cfe-d705-4f1f-866b-b4b370af384d",
   "metadata": {},
   "source": [
    "# Part 1 - The basics"
   ]
  },
  {
   "cell_type": "markdown",
   "id": "223204e5-f880-46d3-b81f-63e24071759b",
   "metadata": {},
   "source": [
    "R is just a calculator."
   ]
  },
  {
   "cell_type": "code",
   "execution_count": 1,
   "id": "21e221b0-07e2-49e1-b9a9-c3950d59cf3d",
   "metadata": {},
   "outputs": [
    {
     "data": {
      "text/html": [
       "7"
      ],
      "text/latex": [
       "7"
      ],
      "text/markdown": [
       "7"
      ],
      "text/plain": [
       "[1] 7"
      ]
     },
     "metadata": {},
     "output_type": "display_data"
    }
   ],
   "source": [
    "4+3"
   ]
  },
  {
   "cell_type": "code",
   "execution_count": 2,
   "id": "265925a8-24b1-497f-ad40-fb97d803ce77",
   "metadata": {},
   "outputs": [
    {
     "data": {
      "text/html": [
       "1"
      ],
      "text/latex": [
       "1"
      ],
      "text/markdown": [
       "1"
      ],
      "text/plain": [
       "[1] 1"
      ]
     },
     "metadata": {},
     "output_type": "display_data"
    }
   ],
   "source": [
    "4-3"
   ]
  },
  {
   "cell_type": "markdown",
   "id": "5acd0cf3-6792-4e36-8e68-79c022c09f93",
   "metadata": {},
   "source": [
    "There is special syntax for multiplication and division."
   ]
  },
  {
   "cell_type": "code",
   "execution_count": 3,
   "id": "b77555ea-1d89-4527-a565-5c1966606e2d",
   "metadata": {},
   "outputs": [
    {
     "data": {
      "text/html": [
       "12"
      ],
      "text/latex": [
       "12"
      ],
      "text/markdown": [
       "12"
      ],
      "text/plain": [
       "[1] 12"
      ]
     },
     "metadata": {},
     "output_type": "display_data"
    }
   ],
   "source": [
    "4*3"
   ]
  },
  {
   "cell_type": "code",
   "execution_count": 4,
   "id": "ef1d5efe-3dea-40dd-b96c-88ad80fb0a15",
   "metadata": {},
   "outputs": [
    {
     "data": {
      "text/html": [
       "3"
      ],
      "text/latex": [
       "3"
      ],
      "text/markdown": [
       "3"
      ],
      "text/plain": [
       "[1] 3"
      ]
     },
     "metadata": {},
     "output_type": "display_data"
    }
   ],
   "source": [
    "12/4"
   ]
  },
  {
   "cell_type": "markdown",
   "id": "74e06cd4-c9cc-46cd-91eb-154947ae895a",
   "metadata": {},
   "source": [
    "We can also assign numbers to variables and to operations."
   ]
  },
  {
   "cell_type": "code",
   "execution_count": 5,
   "id": "ffbb4db1-36f8-4371-b860-b9e1136b93b7",
   "metadata": {},
   "outputs": [
    {
     "data": {
      "text/html": [
       "7"
      ],
      "text/latex": [
       "7"
      ],
      "text/markdown": [
       "7"
      ],
      "text/plain": [
       "[1] 7"
      ]
     },
     "metadata": {},
     "output_type": "display_data"
    }
   ],
   "source": [
    "A <- 4\n",
    "B <- 3\n",
    "A + B"
   ]
  },
  {
   "cell_type": "markdown",
   "id": "e849af61-59e4-4c22-8359-93fbf214c73b",
   "metadata": {},
   "source": [
    "A function is just something with an input and an output."
   ]
  },
  {
   "cell_type": "code",
   "execution_count": 6,
   "id": "61462036-ed36-4270-a768-fd130530865e",
   "metadata": {},
   "outputs": [
    {
     "data": {
      "text/html": [
       "7"
      ],
      "text/latex": [
       "7"
      ],
      "text/markdown": [
       "7"
      ],
      "text/plain": [
       "[1] 7"
      ]
     },
     "metadata": {},
     "output_type": "display_data"
    }
   ],
   "source": [
    "sum(4, 3)"
   ]
  },
  {
   "cell_type": "code",
   "execution_count": 7,
   "id": "c5260e87-8683-4e6b-91ab-383c9637aa76",
   "metadata": {},
   "outputs": [
    {
     "data": {
      "text/html": [
       "2"
      ],
      "text/latex": [
       "2"
      ],
      "text/markdown": [
       "2"
      ],
      "text/plain": [
       "[1] 2"
      ]
     },
     "metadata": {},
     "output_type": "display_data"
    }
   ],
   "source": [
    "sqrt(4)"
   ]
  },
  {
   "cell_type": "code",
   "execution_count": 8,
   "id": "11c137cb-3fb2-4a4d-8b27-6b59f52739a9",
   "metadata": {},
   "outputs": [
    {
     "data": {
      "text/html": [
       "7"
      ],
      "text/latex": [
       "7"
      ],
      "text/markdown": [
       "7"
      ],
      "text/plain": [
       "[1] 7"
      ]
     },
     "metadata": {},
     "output_type": "display_data"
    }
   ],
   "source": [
    "sum(A, B)"
   ]
  },
  {
   "cell_type": "markdown",
   "id": "3e91f7cc-255b-48f4-ab57-eb7391ee4abb",
   "metadata": {},
   "source": [
    "# Part 2 - A bit more advanced"
   ]
  },
  {
   "cell_type": "markdown",
   "id": "248b1114-2884-4f05-bffc-56e160aea5cc",
   "metadata": {},
   "source": [
    "The nice thing about R is that unlike on a calculator, you can keep track of your operations. This is important for reproducing your work, and doing more complicated stuff. Let's look at some of this more complicated stuff!"
   ]
  },
  {
   "cell_type": "markdown",
   "id": "ac06ad57-0aeb-4026-94da-8c7c106cf4f5",
   "metadata": {},
   "source": [
    "We can assign lists of numbers to variables. This is called an array.\n",
    "'c' is just a function. It means 'concatenate'."
   ]
  },
  {
   "cell_type": "code",
   "execution_count": 9,
   "id": "4e6a29ac-95f4-4fb9-990b-8a62069bcd76",
   "metadata": {},
   "outputs": [],
   "source": [
    "A <- c(1, 2, 3, 4, 5)\n",
    "B <- c(2, 2, 2, 2, 2)"
   ]
  },
  {
   "cell_type": "markdown",
   "id": "c24e1454-776f-4daf-a99e-25200904b9ee",
   "metadata": {},
   "source": [
    "We can do operations on lists too, the same as for simpler variables.\n",
    "We can make a new variable in the process."
   ]
  },
  {
   "cell_type": "code",
   "execution_count": 10,
   "id": "aba7981c-75e6-4f6d-a5cf-9820890daa6b",
   "metadata": {},
   "outputs": [],
   "source": [
    "C <- A + B"
   ]
  },
  {
   "cell_type": "markdown",
   "id": "9bc9f880-9552-48c3-9e09-18c606f30a30",
   "metadata": {},
   "source": [
    "To see the output, you need to call the variable directly."
   ]
  },
  {
   "cell_type": "code",
   "execution_count": 11,
   "id": "2860fb03-b59f-414b-87a2-7f181486fee2",
   "metadata": {},
   "outputs": [
    {
     "data": {
      "text/html": [
       "<style>\n",
       ".list-inline {list-style: none; margin:0; padding: 0}\n",
       ".list-inline>li {display: inline-block}\n",
       ".list-inline>li:not(:last-child)::after {content: \"\\00b7\"; padding: 0 .5ex}\n",
       "</style>\n",
       "<ol class=list-inline><li>3</li><li>4</li><li>5</li><li>6</li><li>7</li></ol>\n"
      ],
      "text/latex": [
       "\\begin{enumerate*}\n",
       "\\item 3\n",
       "\\item 4\n",
       "\\item 5\n",
       "\\item 6\n",
       "\\item 7\n",
       "\\end{enumerate*}\n"
      ],
      "text/markdown": [
       "1. 3\n",
       "2. 4\n",
       "3. 5\n",
       "4. 6\n",
       "5. 7\n",
       "\n",
       "\n"
      ],
      "text/plain": [
       "[1] 3 4 5 6 7"
      ]
     },
     "metadata": {},
     "output_type": "display_data"
    }
   ],
   "source": [
    "C"
   ]
  },
  {
   "cell_type": "markdown",
   "id": "acfd0860-c27e-4e04-b5ba-ab599b7f9986",
   "metadata": {},
   "source": [
    "We can use other functions to make lists. We can make sequences..."
   ]
  },
  {
   "cell_type": "code",
   "execution_count": 14,
   "id": "df9fb366-73e2-41f9-95ae-dbb3c2cc57c3",
   "metadata": {},
   "outputs": [
    {
     "data": {
      "text/html": [
       "<style>\n",
       ".list-inline {list-style: none; margin:0; padding: 0}\n",
       ".list-inline>li {display: inline-block}\n",
       ".list-inline>li:not(:last-child)::after {content: \"\\00b7\"; padding: 0 .5ex}\n",
       "</style>\n",
       "<ol class=list-inline><li>1</li><li>2</li><li>3</li><li>4</li><li>5</li></ol>\n"
      ],
      "text/latex": [
       "\\begin{enumerate*}\n",
       "\\item 1\n",
       "\\item 2\n",
       "\\item 3\n",
       "\\item 4\n",
       "\\item 5\n",
       "\\end{enumerate*}\n"
      ],
      "text/markdown": [
       "1. 1\n",
       "2. 2\n",
       "3. 3\n",
       "4. 4\n",
       "5. 5\n",
       "\n",
       "\n"
      ],
      "text/plain": [
       "[1] 1 2 3 4 5"
      ]
     },
     "metadata": {},
     "output_type": "display_data"
    }
   ],
   "source": [
    "A <- seq(1, 5, 1)\n",
    "A"
   ]
  },
  {
   "cell_type": "markdown",
   "id": "2fb47e4b-4003-47a5-b65f-5eb3ce8450a6",
   "metadata": {},
   "source": [
    "...or repeat numbers"
   ]
  },
  {
   "cell_type": "code",
   "execution_count": 15,
   "id": "8a60419c-b130-421d-b220-41465cf63a47",
   "metadata": {},
   "outputs": [
    {
     "data": {
      "text/html": [
       "<style>\n",
       ".list-inline {list-style: none; margin:0; padding: 0}\n",
       ".list-inline>li {display: inline-block}\n",
       ".list-inline>li:not(:last-child)::after {content: \"\\00b7\"; padding: 0 .5ex}\n",
       "</style>\n",
       "<ol class=list-inline><li>2</li><li>2</li><li>2</li><li>2</li><li>2</li></ol>\n"
      ],
      "text/latex": [
       "\\begin{enumerate*}\n",
       "\\item 2\n",
       "\\item 2\n",
       "\\item 2\n",
       "\\item 2\n",
       "\\item 2\n",
       "\\end{enumerate*}\n"
      ],
      "text/markdown": [
       "1. 2\n",
       "2. 2\n",
       "3. 2\n",
       "4. 2\n",
       "5. 2\n",
       "\n",
       "\n"
      ],
      "text/plain": [
       "[1] 2 2 2 2 2"
      ]
     },
     "metadata": {},
     "output_type": "display_data"
    }
   ],
   "source": [
    "B <- rep(2, 5)\n",
    "B"
   ]
  },
  {
   "cell_type": "markdown",
   "id": "ceb4a06c-2759-42d7-b834-c66398ac717c",
   "metadata": {},
   "source": [
    "We can also generate random lists."
   ]
  },
  {
   "cell_type": "code",
   "execution_count": null,
   "id": "a0b7baea-94b1-4e6e-8285-fb166af80ca8",
   "metadata": {},
   "outputs": [],
   "source": [
    "weight1 <- runif(30, 60, 120)\n",
    "weight2 <- runif(30, 80, 140)"
   ]
  },
  {
   "cell_type": "markdown",
   "id": "a9b41cdd-8549-426c-a63a-c48eaef7bebb",
   "metadata": {},
   "source": [
    "A uniform distribution is a probability distribution in which all outcomes are equally likely, resulting in a constant probability density across a specified interval."
   ]
  },
  {
   "cell_type": "markdown",
   "id": "79545d3b-fcaa-4cef-8c6b-ede5ac095ebe",
   "metadata": {},
   "source": [
    "If you are unsure about how a function works, there's a built-in way to get help:"
   ]
  },
  {
   "cell_type": "code",
   "execution_count": 16,
   "id": "f032b628-f242-4e9a-a621-b48c232cf34a",
   "metadata": {},
   "outputs": [
    {
     "data": {
      "text/html": [
       "\n",
       "<table style=\"width: 100%;\"><tr><td>Uniform {stats}</td><td style=\"text-align: right;\">R Documentation</td></tr></table>\n",
       "\n",
       "<h2>The Uniform Distribution</h2>\n",
       "\n",
       "<h3>Description</h3>\n",
       "\n",
       "<p>These functions provide information about the uniform distribution\n",
       "on the interval from <code>min</code> to <code>max</code>.  <code>dunif</code> gives the\n",
       "density, <code>punif</code> gives the distribution function <code>qunif</code>\n",
       "gives the quantile function and <code>runif</code> generates random\n",
       "deviates.\n",
       "</p>\n",
       "\n",
       "\n",
       "<h3>Usage</h3>\n",
       "\n",
       "<pre><code class='language-R'>dunif(x, min = 0, max = 1, log = FALSE)\n",
       "punif(q, min = 0, max = 1, lower.tail = TRUE, log.p = FALSE)\n",
       "qunif(p, min = 0, max = 1, lower.tail = TRUE, log.p = FALSE)\n",
       "runif(n, min = 0, max = 1)\n",
       "</code></pre>\n",
       "\n",
       "\n",
       "<h3>Arguments</h3>\n",
       "\n",
       "<table>\n",
       "<tr><td><code id=\"x\">x</code>, <code id=\"q\">q</code></td>\n",
       "<td>\n",
       "<p>vector of quantiles.</p>\n",
       "</td></tr>\n",
       "<tr><td><code id=\"p\">p</code></td>\n",
       "<td>\n",
       "<p>vector of probabilities.</p>\n",
       "</td></tr>\n",
       "<tr><td><code id=\"n\">n</code></td>\n",
       "<td>\n",
       "<p>number of observations. If <code>length(n) &gt; 1</code>, the length\n",
       "is taken to be the number required.</p>\n",
       "</td></tr>\n",
       "<tr><td><code id=\"min\">min</code>, <code id=\"max\">max</code></td>\n",
       "<td>\n",
       "<p>lower and upper limits of the distribution.  Must be finite.</p>\n",
       "</td></tr>\n",
       "<tr><td><code id=\"log\">log</code>, <code id=\"log.p\">log.p</code></td>\n",
       "<td>\n",
       "<p>logical; if TRUE, probabilities p are given as log(p).</p>\n",
       "</td></tr>\n",
       "<tr><td><code id=\"lower.tail\">lower.tail</code></td>\n",
       "<td>\n",
       "<p>logical; if TRUE (default), probabilities are\n",
       "<code class=\"reqn\">P[X \\le x]</code>, otherwise, <code class=\"reqn\">P[X &gt; x]</code>.</p>\n",
       "</td></tr>\n",
       "</table>\n",
       "\n",
       "\n",
       "<h3>Details</h3>\n",
       "\n",
       "<p>If <code>min</code> or <code>max</code> are not specified they assume the default\n",
       "values of <code>0</code> and <code>1</code> respectively.\n",
       "</p>\n",
       "<p>The uniform distribution has density\n",
       "</p>\n",
       "<p style=\"text-align: center;\"><code class=\"reqn\">f(x) = \\frac{1}{max-min}</code>\n",
       "</p>\n",
       "\n",
       "<p>for <code class=\"reqn\">min \\le x \\le max</code>.\n",
       "</p>\n",
       "<p>For the case of <code class=\"reqn\">u := min == max</code>, the limit case of\n",
       "<code class=\"reqn\">X \\equiv u</code> is assumed, although there is no density in\n",
       "that case and <code>dunif</code> will return <code>NaN</code> (the error condition).\n",
       "</p>\n",
       "<p><code>runif</code> will not generate either of the extreme values unless\n",
       "<code>max = min</code> or <code>max-min</code> is small compared to <code>min</code>,\n",
       "and in particular not for the default arguments.\n",
       "</p>\n",
       "\n",
       "\n",
       "<h3>Value</h3>\n",
       "\n",
       "<p><code>dunif</code> gives the density,\n",
       "<code>punif</code> gives the distribution function,\n",
       "<code>qunif</code> gives the quantile function, and\n",
       "<code>runif</code> generates random deviates.\n",
       "</p>\n",
       "<p>The length of the result is determined by <code>n</code> for\n",
       "<code>runif</code>, and is the maximum of the lengths of the\n",
       "numerical arguments for the other functions.  \n",
       "</p>\n",
       "<p>The numerical arguments other than <code>n</code> are recycled to the\n",
       "length of the result.  Only the first elements of the logical\n",
       "arguments are used.\n",
       "</p>\n",
       "\n",
       "\n",
       "<h3>Note</h3>\n",
       "\n",
       "<p>The characteristics of output from pseudo-random number generators\n",
       "(such as precision and periodicity) vary widely.  See\n",
       "<code>.Random.seed</code> for more information on <span class=\"rlang\"><b>R</b></span>'s random number\n",
       "generation algorithms.\n",
       "</p>\n",
       "\n",
       "\n",
       "<h3>References</h3>\n",
       "\n",
       "<p>Becker, R. A., Chambers, J. M. and Wilks, A. R. (1988)\n",
       "<em>The New S Language</em>.\n",
       "Wadsworth &amp; Brooks/Cole.\n",
       "</p>\n",
       "\n",
       "\n",
       "<h3>See Also</h3>\n",
       "\n",
       "<p><code>RNG</code> about random number generation in <span class=\"rlang\"><b>R</b></span>.\n",
       "</p>\n",
       "<p>Distributions for other standard distributions.\n",
       "</p>\n",
       "\n",
       "\n",
       "<h3>Examples</h3>\n",
       "\n",
       "<pre><code class='language-R'>u &lt;- runif(20)\n",
       "\n",
       "## The following relations always hold :\n",
       "punif(u) == u\n",
       "dunif(u) == 1\n",
       "\n",
       "var(runif(10000))  #- ~ = 1/12 = .08333\n",
       "</code></pre>\n",
       "\n",
       "<hr /><div style=\"text-align: center;\">[Package <em>stats</em> version 4.4.1 ]</div></main>\n",
       "\n",
       "</div>"
      ],
      "text/latex": [
       "\\inputencoding{utf8}\n",
       "\\HeaderA{Uniform}{The Uniform Distribution}{Uniform}\n",
       "\\aliasA{dunif}{Uniform}{dunif}\n",
       "\\aliasA{punif}{Uniform}{punif}\n",
       "\\aliasA{qunif}{Uniform}{qunif}\n",
       "\\aliasA{runif}{Uniform}{runif}\n",
       "\\keyword{distribution}{Uniform}\n",
       "%\n",
       "\\begin{Description}\n",
       "These functions provide information about the uniform distribution\n",
       "on the interval from \\code{min} to \\code{max}.  \\code{dunif} gives the\n",
       "density, \\code{punif} gives the distribution function \\code{qunif}\n",
       "gives the quantile function and \\code{runif} generates random\n",
       "deviates.\n",
       "\\end{Description}\n",
       "%\n",
       "\\begin{Usage}\n",
       "\\begin{verbatim}\n",
       "dunif(x, min = 0, max = 1, log = FALSE)\n",
       "punif(q, min = 0, max = 1, lower.tail = TRUE, log.p = FALSE)\n",
       "qunif(p, min = 0, max = 1, lower.tail = TRUE, log.p = FALSE)\n",
       "runif(n, min = 0, max = 1)\n",
       "\\end{verbatim}\n",
       "\\end{Usage}\n",
       "%\n",
       "\\begin{Arguments}\n",
       "\\begin{ldescription}\n",
       "\\item[\\code{x}, \\code{q}] vector of quantiles.\n",
       "\\item[\\code{p}] vector of probabilities.\n",
       "\\item[\\code{n}] number of observations. If \\code{length(n) > 1}, the length\n",
       "is taken to be the number required.\n",
       "\\item[\\code{min}, \\code{max}] lower and upper limits of the distribution.  Must be finite.\n",
       "\\item[\\code{log}, \\code{log.p}] logical; if TRUE, probabilities p are given as log(p).\n",
       "\\item[\\code{lower.tail}] logical; if TRUE (default), probabilities are\n",
       "\\eqn{P[X \\le x]}{}, otherwise, \\eqn{P[X > x]}{}.\n",
       "\\end{ldescription}\n",
       "\\end{Arguments}\n",
       "%\n",
       "\\begin{Details}\n",
       "If \\code{min} or \\code{max} are not specified they assume the default\n",
       "values of \\code{0} and \\code{1} respectively.\n",
       "\n",
       "The uniform distribution has density\n",
       "\\deqn{f(x) = \\frac{1}{max-min}}{}\n",
       "for \\eqn{min \\le x \\le max}{}.\n",
       "\n",
       "For the case of \\eqn{u := min == max}{}, the limit case of\n",
       "\\eqn{X \\equiv u}{} is assumed, although there is no density in\n",
       "that case and \\code{dunif} will return \\code{NaN} (the error condition).\n",
       "\n",
       "\\code{runif} will not generate either of the extreme values unless\n",
       "\\code{max = min} or \\code{max-min} is small compared to \\code{min},\n",
       "and in particular not for the default arguments.\n",
       "\\end{Details}\n",
       "%\n",
       "\\begin{Value}\n",
       "\\code{dunif} gives the density,\n",
       "\\code{punif} gives the distribution function,\n",
       "\\code{qunif} gives the quantile function, and\n",
       "\\code{runif} generates random deviates.\n",
       "\n",
       "The length of the result is determined by \\code{n} for\n",
       "\\code{runif}, and is the maximum of the lengths of the\n",
       "numerical arguments for the other functions.  \n",
       "\n",
       "The numerical arguments other than \\code{n} are recycled to the\n",
       "length of the result.  Only the first elements of the logical\n",
       "arguments are used.\n",
       "\\end{Value}\n",
       "%\n",
       "\\begin{Note}\n",
       "The characteristics of output from pseudo-random number generators\n",
       "(such as precision and periodicity) vary widely.  See\n",
       "\\code{\\LinkA{.Random.seed}{.Random.seed}} for more information on \\R{}'s random number\n",
       "generation algorithms.\n",
       "\\end{Note}\n",
       "%\n",
       "\\begin{References}\n",
       "Becker, R. A., Chambers, J. M. and Wilks, A. R. (1988)\n",
       "\\emph{The New S Language}.\n",
       "Wadsworth \\& Brooks/Cole.\n",
       "\\end{References}\n",
       "%\n",
       "\\begin{SeeAlso}\n",
       "\\code{\\LinkA{RNG}{RNG}} about random number generation in \\R{}.\n",
       "\n",
       "\\LinkA{Distributions}{Distributions} for other standard distributions.\n",
       "\\end{SeeAlso}\n",
       "%\n",
       "\\begin{Examples}\n",
       "\\begin{ExampleCode}\n",
       "u <- runif(20)\n",
       "\n",
       "## The following relations always hold :\n",
       "punif(u) == u\n",
       "dunif(u) == 1\n",
       "\n",
       "var(runif(10000))  #- ~ = 1/12 = .08333\n",
       "\\end{ExampleCode}\n",
       "\\end{Examples}"
      ],
      "text/plain": [
       "Uniform                 package:stats                  R Documentation\n",
       "\n",
       "_\bT_\bh_\be _\bU_\bn_\bi_\bf_\bo_\br_\bm _\bD_\bi_\bs_\bt_\br_\bi_\bb_\bu_\bt_\bi_\bo_\bn\n",
       "\n",
       "_\bD_\be_\bs_\bc_\br_\bi_\bp_\bt_\bi_\bo_\bn:\n",
       "\n",
       "     These functions provide information about the uniform distribution\n",
       "     on the interval from ‘min’ to ‘max’.  ‘dunif’ gives the density,\n",
       "     ‘punif’ gives the distribution function ‘qunif’ gives the quantile\n",
       "     function and ‘runif’ generates random deviates.\n",
       "\n",
       "_\bU_\bs_\ba_\bg_\be:\n",
       "\n",
       "     dunif(x, min = 0, max = 1, log = FALSE)\n",
       "     punif(q, min = 0, max = 1, lower.tail = TRUE, log.p = FALSE)\n",
       "     qunif(p, min = 0, max = 1, lower.tail = TRUE, log.p = FALSE)\n",
       "     runif(n, min = 0, max = 1)\n",
       "     \n",
       "_\bA_\br_\bg_\bu_\bm_\be_\bn_\bt_\bs:\n",
       "\n",
       "    x, q: vector of quantiles.\n",
       "\n",
       "       p: vector of probabilities.\n",
       "\n",
       "       n: number of observations. If ‘length(n) > 1’, the length is\n",
       "          taken to be the number required.\n",
       "\n",
       "min, max: lower and upper limits of the distribution.  Must be finite.\n",
       "\n",
       "log, log.p: logical; if TRUE, probabilities p are given as log(p).\n",
       "\n",
       "lower.tail: logical; if TRUE (default), probabilities are P[X <= x],\n",
       "          otherwise, P[X > x].\n",
       "\n",
       "_\bD_\be_\bt_\ba_\bi_\bl_\bs:\n",
       "\n",
       "     If ‘min’ or ‘max’ are not specified they assume the default values\n",
       "     of ‘0’ and ‘1’ respectively.\n",
       "\n",
       "     The uniform distribution has density\n",
       "\n",
       "                             f(x) = 1/(max-min)                         \n",
       "     \n",
       "     for min <= x <= max.\n",
       "\n",
       "     For the case of u := min == max, the limit case of X == u is\n",
       "     assumed, although there is no density in that case and ‘dunif’\n",
       "     will return ‘NaN’ (the error condition).\n",
       "\n",
       "     ‘runif’ will not generate either of the extreme values unless ‘max\n",
       "     = min’ or ‘max-min’ is small compared to ‘min’, and in particular\n",
       "     not for the default arguments.\n",
       "\n",
       "_\bV_\ba_\bl_\bu_\be:\n",
       "\n",
       "     ‘dunif’ gives the density, ‘punif’ gives the distribution\n",
       "     function, ‘qunif’ gives the quantile function, and ‘runif’\n",
       "     generates random deviates.\n",
       "\n",
       "     The length of the result is determined by ‘n’ for ‘runif’, and is\n",
       "     the maximum of the lengths of the numerical arguments for the\n",
       "     other functions.\n",
       "\n",
       "     The numerical arguments other than ‘n’ are recycled to the length\n",
       "     of the result.  Only the first elements of the logical arguments\n",
       "     are used.\n",
       "\n",
       "_\bN_\bo_\bt_\be:\n",
       "\n",
       "     The characteristics of output from pseudo-random number generators\n",
       "     (such as precision and periodicity) vary widely.  See\n",
       "     ‘.Random.seed’ for more information on R's random number\n",
       "     generation algorithms.\n",
       "\n",
       "_\bR_\be_\bf_\be_\br_\be_\bn_\bc_\be_\bs:\n",
       "\n",
       "     Becker, R. A., Chambers, J. M. and Wilks, A. R. (1988) _The New S\n",
       "     Language_.  Wadsworth & Brooks/Cole.\n",
       "\n",
       "_\bS_\be_\be _\bA_\bl_\bs_\bo:\n",
       "\n",
       "     ‘RNG’ about random number generation in R.\n",
       "\n",
       "     Distributions for other standard distributions.\n",
       "\n",
       "_\bE_\bx_\ba_\bm_\bp_\bl_\be_\bs:\n",
       "\n",
       "     u <- runif(20)\n",
       "     \n",
       "     ## The following relations always hold :\n",
       "     punif(u) == u\n",
       "     dunif(u) == 1\n",
       "     \n",
       "     var(runif(10000))  #- ~ = 1/12 = .08333\n",
       "     "
      ]
     },
     "metadata": {},
     "output_type": "display_data"
    }
   ],
   "source": [
    "?runif"
   ]
  },
  {
   "cell_type": "markdown",
   "id": "a2698634-aee6-4790-9067-9a70003b55cb",
   "metadata": {},
   "source": [
    "We don't have to use a uniform distribution. Actually, a normal distribution will be better. Let's do that instead."
   ]
  },
  {
   "cell_type": "code",
   "execution_count": 23,
   "id": "de4a1ed7-b9de-4d1c-aafb-f663ef593c78",
   "metadata": {},
   "outputs": [],
   "source": [
    "weight1 <- rnorm(30, 60, 10)\n",
    "weight2 <- rnorm(30, 80, 10)"
   ]
  },
  {
   "cell_type": "markdown",
   "id": "96fb9a30-367e-403a-8058-24b0715b1611",
   "metadata": {},
   "source": [
    "A normal distribution is a symmetric, bell-shaped probability distribution characterized by its mean and standard deviation, where approximately 68% of the data falls within one standard deviation of the mean."
   ]
  },
  {
   "cell_type": "markdown",
   "id": "a1468e8b-d238-4885-9d26-4502e6da5308",
   "metadata": {},
   "source": [
    "We can also make lists of words. This can be useful if our variables are categorical. "
   ]
  },
  {
   "cell_type": "code",
   "execution_count": 18,
   "id": "70879df2-7725-443e-8208-c4954b30a138",
   "metadata": {},
   "outputs": [],
   "source": [
    "species1 <- rep('Deer', 30)\n",
    "species2 <- rep('Reindeer', 30)"
   ]
  },
  {
   "cell_type": "code",
   "execution_count": 19,
   "id": "5667a2ec-1ff3-4cc6-a30c-85b103fb4acf",
   "metadata": {},
   "outputs": [
    {
     "data": {
      "text/html": [
       "<style>\n",
       ".list-inline {list-style: none; margin:0; padding: 0}\n",
       ".list-inline>li {display: inline-block}\n",
       ".list-inline>li:not(:last-child)::after {content: \"\\00b7\"; padding: 0 .5ex}\n",
       "</style>\n",
       "<ol class=list-inline><li>'Deer'</li><li>'Deer'</li><li>'Deer'</li><li>'Deer'</li><li>'Deer'</li><li>'Deer'</li><li>'Deer'</li><li>'Deer'</li><li>'Deer'</li><li>'Deer'</li><li>'Deer'</li><li>'Deer'</li><li>'Deer'</li><li>'Deer'</li><li>'Deer'</li><li>'Deer'</li><li>'Deer'</li><li>'Deer'</li><li>'Deer'</li><li>'Deer'</li><li>'Deer'</li><li>'Deer'</li><li>'Deer'</li><li>'Deer'</li><li>'Deer'</li><li>'Deer'</li><li>'Deer'</li><li>'Deer'</li><li>'Deer'</li><li>'Deer'</li></ol>\n"
      ],
      "text/latex": [
       "\\begin{enumerate*}\n",
       "\\item 'Deer'\n",
       "\\item 'Deer'\n",
       "\\item 'Deer'\n",
       "\\item 'Deer'\n",
       "\\item 'Deer'\n",
       "\\item 'Deer'\n",
       "\\item 'Deer'\n",
       "\\item 'Deer'\n",
       "\\item 'Deer'\n",
       "\\item 'Deer'\n",
       "\\item 'Deer'\n",
       "\\item 'Deer'\n",
       "\\item 'Deer'\n",
       "\\item 'Deer'\n",
       "\\item 'Deer'\n",
       "\\item 'Deer'\n",
       "\\item 'Deer'\n",
       "\\item 'Deer'\n",
       "\\item 'Deer'\n",
       "\\item 'Deer'\n",
       "\\item 'Deer'\n",
       "\\item 'Deer'\n",
       "\\item 'Deer'\n",
       "\\item 'Deer'\n",
       "\\item 'Deer'\n",
       "\\item 'Deer'\n",
       "\\item 'Deer'\n",
       "\\item 'Deer'\n",
       "\\item 'Deer'\n",
       "\\item 'Deer'\n",
       "\\end{enumerate*}\n"
      ],
      "text/markdown": [
       "1. 'Deer'\n",
       "2. 'Deer'\n",
       "3. 'Deer'\n",
       "4. 'Deer'\n",
       "5. 'Deer'\n",
       "6. 'Deer'\n",
       "7. 'Deer'\n",
       "8. 'Deer'\n",
       "9. 'Deer'\n",
       "10. 'Deer'\n",
       "11. 'Deer'\n",
       "12. 'Deer'\n",
       "13. 'Deer'\n",
       "14. 'Deer'\n",
       "15. 'Deer'\n",
       "16. 'Deer'\n",
       "17. 'Deer'\n",
       "18. 'Deer'\n",
       "19. 'Deer'\n",
       "20. 'Deer'\n",
       "21. 'Deer'\n",
       "22. 'Deer'\n",
       "23. 'Deer'\n",
       "24. 'Deer'\n",
       "25. 'Deer'\n",
       "26. 'Deer'\n",
       "27. 'Deer'\n",
       "28. 'Deer'\n",
       "29. 'Deer'\n",
       "30. 'Deer'\n",
       "\n",
       "\n"
      ],
      "text/plain": [
       " [1] \"Deer\" \"Deer\" \"Deer\" \"Deer\" \"Deer\" \"Deer\" \"Deer\" \"Deer\" \"Deer\" \"Deer\"\n",
       "[11] \"Deer\" \"Deer\" \"Deer\" \"Deer\" \"Deer\" \"Deer\" \"Deer\" \"Deer\" \"Deer\" \"Deer\"\n",
       "[21] \"Deer\" \"Deer\" \"Deer\" \"Deer\" \"Deer\" \"Deer\" \"Deer\" \"Deer\" \"Deer\" \"Deer\""
      ]
     },
     "metadata": {},
     "output_type": "display_data"
    }
   ],
   "source": [
    "species1"
   ]
  },
  {
   "cell_type": "markdown",
   "id": "7198b1e8-6298-4fb9-a319-f7f2f723d725",
   "metadata": {},
   "source": [
    "We can also manipulate arrays. This can be necessary for tidying data, and getting it into the right format. We can for example append one array to another. We just use the c() function for this."
   ]
  },
  {
   "cell_type": "code",
   "execution_count": 24,
   "id": "750d9402-c1cc-4866-a00b-3f0e75dfe402",
   "metadata": {},
   "outputs": [
    {
     "data": {
      "text/html": [
       "<style>\n",
       ".list-inline {list-style: none; margin:0; padding: 0}\n",
       ".list-inline>li {display: inline-block}\n",
       ".list-inline>li:not(:last-child)::after {content: \"\\00b7\"; padding: 0 .5ex}\n",
       "</style>\n",
       "<ol class=list-inline><li>58.6894962714686</li><li>46.6918250437606</li><li>59.2592166282078</li><li>67.271508191869</li><li>47.0246170379616</li><li>51.0330379004519</li><li>69.6306261555846</li><li>66.1412888764003</li><li>60.6119686967313</li><li>63.3511205877071</li><li>56.3326403107385</li><li>65.7468525547617</li><li>70.2607568390141</li><li>48.314415203013</li><li>66.4784099237139</li><li>54.4361637017954</li><li>74.1012686917601</li><li>57.3636472659154</li><li>51.6839788243051</li><li>66.6617431018012</li><li>53.7836722603096</li><li>71.9367851390371</li><li>72.4264362002947</li><li>49.6346183281831</li><li>63.9920426855996</li><li>70.5724291207105</li><li>73.9361086385204</li><li>55.9029055221883</li><li>53.1371089220707</li><li>57.7274301555299</li><li>76.3162079470802</li><li>91.4937906401406</li><li>72.6622889128866</li><li>64.595036341616</li><li>79.1397418287679</li><li>81.9460553793358</li><li>97.6003071292807</li><li>78.0749079985768</li><li>77.8037479948329</li><li>85.9705135128174</li><li>80.3210239037352</li><li>73.6269492712988</li><li>69.8526955376068</li><li>85.7631076089809</li><li>67.5753771348806</li><li>78.8956534682358</li><li>74.2500263936045</li><li>81.7081143017309</li><li>79.1626810973291</li><li>89.390951120676</li><li>92.0551993112225</li><li>78.1487054031715</li><li>81.1314394365613</li><li>78.7878339320689</li><li>75.786861803154</li><li>80.1666182635397</li><li>80.7354420154479</li><li>73.7039461161437</li><li>83.4328721711519</li><li>73.8331694430106</li></ol>\n"
      ],
      "text/latex": [
       "\\begin{enumerate*}\n",
       "\\item 58.6894962714686\n",
       "\\item 46.6918250437606\n",
       "\\item 59.2592166282078\n",
       "\\item 67.271508191869\n",
       "\\item 47.0246170379616\n",
       "\\item 51.0330379004519\n",
       "\\item 69.6306261555846\n",
       "\\item 66.1412888764003\n",
       "\\item 60.6119686967313\n",
       "\\item 63.3511205877071\n",
       "\\item 56.3326403107385\n",
       "\\item 65.7468525547617\n",
       "\\item 70.2607568390141\n",
       "\\item 48.314415203013\n",
       "\\item 66.4784099237139\n",
       "\\item 54.4361637017954\n",
       "\\item 74.1012686917601\n",
       "\\item 57.3636472659154\n",
       "\\item 51.6839788243051\n",
       "\\item 66.6617431018012\n",
       "\\item 53.7836722603096\n",
       "\\item 71.9367851390371\n",
       "\\item 72.4264362002947\n",
       "\\item 49.6346183281831\n",
       "\\item 63.9920426855996\n",
       "\\item 70.5724291207105\n",
       "\\item 73.9361086385204\n",
       "\\item 55.9029055221883\n",
       "\\item 53.1371089220707\n",
       "\\item 57.7274301555299\n",
       "\\item 76.3162079470802\n",
       "\\item 91.4937906401406\n",
       "\\item 72.6622889128866\n",
       "\\item 64.595036341616\n",
       "\\item 79.1397418287679\n",
       "\\item 81.9460553793358\n",
       "\\item 97.6003071292807\n",
       "\\item 78.0749079985768\n",
       "\\item 77.8037479948329\n",
       "\\item 85.9705135128174\n",
       "\\item 80.3210239037352\n",
       "\\item 73.6269492712988\n",
       "\\item 69.8526955376068\n",
       "\\item 85.7631076089809\n",
       "\\item 67.5753771348806\n",
       "\\item 78.8956534682358\n",
       "\\item 74.2500263936045\n",
       "\\item 81.7081143017309\n",
       "\\item 79.1626810973291\n",
       "\\item 89.390951120676\n",
       "\\item 92.0551993112225\n",
       "\\item 78.1487054031715\n",
       "\\item 81.1314394365613\n",
       "\\item 78.7878339320689\n",
       "\\item 75.786861803154\n",
       "\\item 80.1666182635397\n",
       "\\item 80.7354420154479\n",
       "\\item 73.7039461161437\n",
       "\\item 83.4328721711519\n",
       "\\item 73.8331694430106\n",
       "\\end{enumerate*}\n"
      ],
      "text/markdown": [
       "1. 58.6894962714686\n",
       "2. 46.6918250437606\n",
       "3. 59.2592166282078\n",
       "4. 67.271508191869\n",
       "5. 47.0246170379616\n",
       "6. 51.0330379004519\n",
       "7. 69.6306261555846\n",
       "8. 66.1412888764003\n",
       "9. 60.6119686967313\n",
       "10. 63.3511205877071\n",
       "11. 56.3326403107385\n",
       "12. 65.7468525547617\n",
       "13. 70.2607568390141\n",
       "14. 48.314415203013\n",
       "15. 66.4784099237139\n",
       "16. 54.4361637017954\n",
       "17. 74.1012686917601\n",
       "18. 57.3636472659154\n",
       "19. 51.6839788243051\n",
       "20. 66.6617431018012\n",
       "21. 53.7836722603096\n",
       "22. 71.9367851390371\n",
       "23. 72.4264362002947\n",
       "24. 49.6346183281831\n",
       "25. 63.9920426855996\n",
       "26. 70.5724291207105\n",
       "27. 73.9361086385204\n",
       "28. 55.9029055221883\n",
       "29. 53.1371089220707\n",
       "30. 57.7274301555299\n",
       "31. 76.3162079470802\n",
       "32. 91.4937906401406\n",
       "33. 72.6622889128866\n",
       "34. 64.595036341616\n",
       "35. 79.1397418287679\n",
       "36. 81.9460553793358\n",
       "37. 97.6003071292807\n",
       "38. 78.0749079985768\n",
       "39. 77.8037479948329\n",
       "40. 85.9705135128174\n",
       "41. 80.3210239037352\n",
       "42. 73.6269492712988\n",
       "43. 69.8526955376068\n",
       "44. 85.7631076089809\n",
       "45. 67.5753771348806\n",
       "46. 78.8956534682358\n",
       "47. 74.2500263936045\n",
       "48. 81.7081143017309\n",
       "49. 79.1626810973291\n",
       "50. 89.390951120676\n",
       "51. 92.0551993112225\n",
       "52. 78.1487054031715\n",
       "53. 81.1314394365613\n",
       "54. 78.7878339320689\n",
       "55. 75.786861803154\n",
       "56. 80.1666182635397\n",
       "57. 80.7354420154479\n",
       "58. 73.7039461161437\n",
       "59. 83.4328721711519\n",
       "60. 73.8331694430106\n",
       "\n",
       "\n"
      ],
      "text/plain": [
       " [1] 58.68950 46.69183 59.25922 67.27151 47.02462 51.03304 69.63063 66.14129\n",
       " [9] 60.61197 63.35112 56.33264 65.74685 70.26076 48.31442 66.47841 54.43616\n",
       "[17] 74.10127 57.36365 51.68398 66.66174 53.78367 71.93679 72.42644 49.63462\n",
       "[25] 63.99204 70.57243 73.93611 55.90291 53.13711 57.72743 76.31621 91.49379\n",
       "[33] 72.66229 64.59504 79.13974 81.94606 97.60031 78.07491 77.80375 85.97051\n",
       "[41] 80.32102 73.62695 69.85270 85.76311 67.57538 78.89565 74.25003 81.70811\n",
       "[49] 79.16268 89.39095 92.05520 78.14871 81.13144 78.78783 75.78686 80.16662\n",
       "[57] 80.73544 73.70395 83.43287 73.83317"
      ]
     },
     "metadata": {},
     "output_type": "display_data"
    }
   ],
   "source": [
    "Weight <- c(weight1, weight2)\n",
    "Species <- c(species1, species2)\n",
    "Weight"
   ]
  },
  {
   "cell_type": "markdown",
   "id": "987c336d-d560-4c57-9d87-eee75a342173",
   "metadata": {},
   "source": [
    "This gives us our weights and species as nice tidy data arrays. We can also organise our data into spreadsheets like excel. These are called data frames in R."
   ]
  },
  {
   "cell_type": "code",
   "execution_count": 22,
   "id": "03134980-2042-4ef6-92fa-930639259b9c",
   "metadata": {},
   "outputs": [],
   "source": [
    "DeerStudy <- data.frame(Weight, Species)"
   ]
  },
  {
   "cell_type": "markdown",
   "id": "21b1fbbc-a349-4d17-8452-81cec475d781",
   "metadata": {},
   "source": [
    "You can always take a look at the dataframe by calling it."
   ]
  },
  {
   "cell_type": "code",
   "execution_count": 25,
   "id": "024e2e50-5a68-49f5-8ca3-bf6271649f81",
   "metadata": {},
   "outputs": [
    {
     "data": {
      "text/html": [
       "<table class=\"dataframe\">\n",
       "<caption>A data.frame: 60 × 2</caption>\n",
       "<thead>\n",
       "\t<tr><th scope=col>Weight</th><th scope=col>Species</th></tr>\n",
       "\t<tr><th scope=col>&lt;dbl&gt;</th><th scope=col>&lt;chr&gt;</th></tr>\n",
       "</thead>\n",
       "<tbody>\n",
       "\t<tr><td>58.09206</td><td>Deer    </td></tr>\n",
       "\t<tr><td>68.25331</td><td>Deer    </td></tr>\n",
       "\t<tr><td>36.72169</td><td>Deer    </td></tr>\n",
       "\t<tr><td>53.70168</td><td>Deer    </td></tr>\n",
       "\t<tr><td>72.55366</td><td>Deer    </td></tr>\n",
       "\t<tr><td>61.30738</td><td>Deer    </td></tr>\n",
       "\t<tr><td>57.71673</td><td>Deer    </td></tr>\n",
       "\t<tr><td>53.64615</td><td>Deer    </td></tr>\n",
       "\t<tr><td>60.66055</td><td>Deer    </td></tr>\n",
       "\t<tr><td>59.21911</td><td>Deer    </td></tr>\n",
       "\t<tr><td>61.46341</td><td>Deer    </td></tr>\n",
       "\t<tr><td>54.68697</td><td>Deer    </td></tr>\n",
       "\t<tr><td>52.57133</td><td>Deer    </td></tr>\n",
       "\t<tr><td>67.30990</td><td>Deer    </td></tr>\n",
       "\t<tr><td>66.41222</td><td>Deer    </td></tr>\n",
       "\t<tr><td>65.04455</td><td>Deer    </td></tr>\n",
       "\t<tr><td>57.47503</td><td>Deer    </td></tr>\n",
       "\t<tr><td>54.25217</td><td>Deer    </td></tr>\n",
       "\t<tr><td>60.30612</td><td>Deer    </td></tr>\n",
       "\t<tr><td>66.84049</td><td>Deer    </td></tr>\n",
       "\t<tr><td>41.53609</td><td>Deer    </td></tr>\n",
       "\t<tr><td>64.33444</td><td>Deer    </td></tr>\n",
       "\t<tr><td>57.32572</td><td>Deer    </td></tr>\n",
       "\t<tr><td>75.69062</td><td>Deer    </td></tr>\n",
       "\t<tr><td>59.70743</td><td>Deer    </td></tr>\n",
       "\t<tr><td>60.44939</td><td>Deer    </td></tr>\n",
       "\t<tr><td>53.58062</td><td>Deer    </td></tr>\n",
       "\t<tr><td>49.35199</td><td>Deer    </td></tr>\n",
       "\t<tr><td>58.72594</td><td>Deer    </td></tr>\n",
       "\t<tr><td>56.95877</td><td>Deer    </td></tr>\n",
       "\t<tr><td>87.57244</td><td>Reindeer</td></tr>\n",
       "\t<tr><td>77.17107</td><td>Reindeer</td></tr>\n",
       "\t<tr><td>73.97777</td><td>Reindeer</td></tr>\n",
       "\t<tr><td>70.14347</td><td>Reindeer</td></tr>\n",
       "\t<tr><td>72.95864</td><td>Reindeer</td></tr>\n",
       "\t<tr><td>69.70067</td><td>Reindeer</td></tr>\n",
       "\t<tr><td>87.80078</td><td>Reindeer</td></tr>\n",
       "\t<tr><td>90.05748</td><td>Reindeer</td></tr>\n",
       "\t<tr><td>65.95910</td><td>Reindeer</td></tr>\n",
       "\t<tr><td>65.02373</td><td>Reindeer</td></tr>\n",
       "\t<tr><td>80.60145</td><td>Reindeer</td></tr>\n",
       "\t<tr><td>85.53517</td><td>Reindeer</td></tr>\n",
       "\t<tr><td>84.28453</td><td>Reindeer</td></tr>\n",
       "\t<tr><td>70.86719</td><td>Reindeer</td></tr>\n",
       "\t<tr><td>76.12799</td><td>Reindeer</td></tr>\n",
       "\t<tr><td>96.07503</td><td>Reindeer</td></tr>\n",
       "\t<tr><td>71.43742</td><td>Reindeer</td></tr>\n",
       "\t<tr><td>73.31206</td><td>Reindeer</td></tr>\n",
       "\t<tr><td>92.26841</td><td>Reindeer</td></tr>\n",
       "\t<tr><td>83.58662</td><td>Reindeer</td></tr>\n",
       "\t<tr><td>82.89176</td><td>Reindeer</td></tr>\n",
       "\t<tr><td>99.47991</td><td>Reindeer</td></tr>\n",
       "\t<tr><td>73.37470</td><td>Reindeer</td></tr>\n",
       "\t<tr><td>79.82034</td><td>Reindeer</td></tr>\n",
       "\t<tr><td>95.14934</td><td>Reindeer</td></tr>\n",
       "\t<tr><td>73.85836</td><td>Reindeer</td></tr>\n",
       "\t<tr><td>69.42894</td><td>Reindeer</td></tr>\n",
       "\t<tr><td>66.00036</td><td>Reindeer</td></tr>\n",
       "\t<tr><td>94.38486</td><td>Reindeer</td></tr>\n",
       "\t<tr><td>90.48304</td><td>Reindeer</td></tr>\n",
       "</tbody>\n",
       "</table>\n"
      ],
      "text/latex": [
       "A data.frame: 60 × 2\n",
       "\\begin{tabular}{ll}\n",
       " Weight & Species\\\\\n",
       " <dbl> & <chr>\\\\\n",
       "\\hline\n",
       "\t 58.09206 & Deer    \\\\\n",
       "\t 68.25331 & Deer    \\\\\n",
       "\t 36.72169 & Deer    \\\\\n",
       "\t 53.70168 & Deer    \\\\\n",
       "\t 72.55366 & Deer    \\\\\n",
       "\t 61.30738 & Deer    \\\\\n",
       "\t 57.71673 & Deer    \\\\\n",
       "\t 53.64615 & Deer    \\\\\n",
       "\t 60.66055 & Deer    \\\\\n",
       "\t 59.21911 & Deer    \\\\\n",
       "\t 61.46341 & Deer    \\\\\n",
       "\t 54.68697 & Deer    \\\\\n",
       "\t 52.57133 & Deer    \\\\\n",
       "\t 67.30990 & Deer    \\\\\n",
       "\t 66.41222 & Deer    \\\\\n",
       "\t 65.04455 & Deer    \\\\\n",
       "\t 57.47503 & Deer    \\\\\n",
       "\t 54.25217 & Deer    \\\\\n",
       "\t 60.30612 & Deer    \\\\\n",
       "\t 66.84049 & Deer    \\\\\n",
       "\t 41.53609 & Deer    \\\\\n",
       "\t 64.33444 & Deer    \\\\\n",
       "\t 57.32572 & Deer    \\\\\n",
       "\t 75.69062 & Deer    \\\\\n",
       "\t 59.70743 & Deer    \\\\\n",
       "\t 60.44939 & Deer    \\\\\n",
       "\t 53.58062 & Deer    \\\\\n",
       "\t 49.35199 & Deer    \\\\\n",
       "\t 58.72594 & Deer    \\\\\n",
       "\t 56.95877 & Deer    \\\\\n",
       "\t 87.57244 & Reindeer\\\\\n",
       "\t 77.17107 & Reindeer\\\\\n",
       "\t 73.97777 & Reindeer\\\\\n",
       "\t 70.14347 & Reindeer\\\\\n",
       "\t 72.95864 & Reindeer\\\\\n",
       "\t 69.70067 & Reindeer\\\\\n",
       "\t 87.80078 & Reindeer\\\\\n",
       "\t 90.05748 & Reindeer\\\\\n",
       "\t 65.95910 & Reindeer\\\\\n",
       "\t 65.02373 & Reindeer\\\\\n",
       "\t 80.60145 & Reindeer\\\\\n",
       "\t 85.53517 & Reindeer\\\\\n",
       "\t 84.28453 & Reindeer\\\\\n",
       "\t 70.86719 & Reindeer\\\\\n",
       "\t 76.12799 & Reindeer\\\\\n",
       "\t 96.07503 & Reindeer\\\\\n",
       "\t 71.43742 & Reindeer\\\\\n",
       "\t 73.31206 & Reindeer\\\\\n",
       "\t 92.26841 & Reindeer\\\\\n",
       "\t 83.58662 & Reindeer\\\\\n",
       "\t 82.89176 & Reindeer\\\\\n",
       "\t 99.47991 & Reindeer\\\\\n",
       "\t 73.37470 & Reindeer\\\\\n",
       "\t 79.82034 & Reindeer\\\\\n",
       "\t 95.14934 & Reindeer\\\\\n",
       "\t 73.85836 & Reindeer\\\\\n",
       "\t 69.42894 & Reindeer\\\\\n",
       "\t 66.00036 & Reindeer\\\\\n",
       "\t 94.38486 & Reindeer\\\\\n",
       "\t 90.48304 & Reindeer\\\\\n",
       "\\end{tabular}\n"
      ],
      "text/markdown": [
       "\n",
       "A data.frame: 60 × 2\n",
       "\n",
       "| Weight &lt;dbl&gt; | Species &lt;chr&gt; |\n",
       "|---|---|\n",
       "| 58.09206 | Deer     |\n",
       "| 68.25331 | Deer     |\n",
       "| 36.72169 | Deer     |\n",
       "| 53.70168 | Deer     |\n",
       "| 72.55366 | Deer     |\n",
       "| 61.30738 | Deer     |\n",
       "| 57.71673 | Deer     |\n",
       "| 53.64615 | Deer     |\n",
       "| 60.66055 | Deer     |\n",
       "| 59.21911 | Deer     |\n",
       "| 61.46341 | Deer     |\n",
       "| 54.68697 | Deer     |\n",
       "| 52.57133 | Deer     |\n",
       "| 67.30990 | Deer     |\n",
       "| 66.41222 | Deer     |\n",
       "| 65.04455 | Deer     |\n",
       "| 57.47503 | Deer     |\n",
       "| 54.25217 | Deer     |\n",
       "| 60.30612 | Deer     |\n",
       "| 66.84049 | Deer     |\n",
       "| 41.53609 | Deer     |\n",
       "| 64.33444 | Deer     |\n",
       "| 57.32572 | Deer     |\n",
       "| 75.69062 | Deer     |\n",
       "| 59.70743 | Deer     |\n",
       "| 60.44939 | Deer     |\n",
       "| 53.58062 | Deer     |\n",
       "| 49.35199 | Deer     |\n",
       "| 58.72594 | Deer     |\n",
       "| 56.95877 | Deer     |\n",
       "| 87.57244 | Reindeer |\n",
       "| 77.17107 | Reindeer |\n",
       "| 73.97777 | Reindeer |\n",
       "| 70.14347 | Reindeer |\n",
       "| 72.95864 | Reindeer |\n",
       "| 69.70067 | Reindeer |\n",
       "| 87.80078 | Reindeer |\n",
       "| 90.05748 | Reindeer |\n",
       "| 65.95910 | Reindeer |\n",
       "| 65.02373 | Reindeer |\n",
       "| 80.60145 | Reindeer |\n",
       "| 85.53517 | Reindeer |\n",
       "| 84.28453 | Reindeer |\n",
       "| 70.86719 | Reindeer |\n",
       "| 76.12799 | Reindeer |\n",
       "| 96.07503 | Reindeer |\n",
       "| 71.43742 | Reindeer |\n",
       "| 73.31206 | Reindeer |\n",
       "| 92.26841 | Reindeer |\n",
       "| 83.58662 | Reindeer |\n",
       "| 82.89176 | Reindeer |\n",
       "| 99.47991 | Reindeer |\n",
       "| 73.37470 | Reindeer |\n",
       "| 79.82034 | Reindeer |\n",
       "| 95.14934 | Reindeer |\n",
       "| 73.85836 | Reindeer |\n",
       "| 69.42894 | Reindeer |\n",
       "| 66.00036 | Reindeer |\n",
       "| 94.38486 | Reindeer |\n",
       "| 90.48304 | Reindeer |\n",
       "\n"
      ],
      "text/plain": [
       "   Weight   Species \n",
       "1  58.09206 Deer    \n",
       "2  68.25331 Deer    \n",
       "3  36.72169 Deer    \n",
       "4  53.70168 Deer    \n",
       "5  72.55366 Deer    \n",
       "6  61.30738 Deer    \n",
       "7  57.71673 Deer    \n",
       "8  53.64615 Deer    \n",
       "9  60.66055 Deer    \n",
       "10 59.21911 Deer    \n",
       "11 61.46341 Deer    \n",
       "12 54.68697 Deer    \n",
       "13 52.57133 Deer    \n",
       "14 67.30990 Deer    \n",
       "15 66.41222 Deer    \n",
       "16 65.04455 Deer    \n",
       "17 57.47503 Deer    \n",
       "18 54.25217 Deer    \n",
       "19 60.30612 Deer    \n",
       "20 66.84049 Deer    \n",
       "21 41.53609 Deer    \n",
       "22 64.33444 Deer    \n",
       "23 57.32572 Deer    \n",
       "24 75.69062 Deer    \n",
       "25 59.70743 Deer    \n",
       "26 60.44939 Deer    \n",
       "27 53.58062 Deer    \n",
       "28 49.35199 Deer    \n",
       "29 58.72594 Deer    \n",
       "30 56.95877 Deer    \n",
       "31 87.57244 Reindeer\n",
       "32 77.17107 Reindeer\n",
       "33 73.97777 Reindeer\n",
       "34 70.14347 Reindeer\n",
       "35 72.95864 Reindeer\n",
       "36 69.70067 Reindeer\n",
       "37 87.80078 Reindeer\n",
       "38 90.05748 Reindeer\n",
       "39 65.95910 Reindeer\n",
       "40 65.02373 Reindeer\n",
       "41 80.60145 Reindeer\n",
       "42 85.53517 Reindeer\n",
       "43 84.28453 Reindeer\n",
       "44 70.86719 Reindeer\n",
       "45 76.12799 Reindeer\n",
       "46 96.07503 Reindeer\n",
       "47 71.43742 Reindeer\n",
       "48 73.31206 Reindeer\n",
       "49 92.26841 Reindeer\n",
       "50 83.58662 Reindeer\n",
       "51 82.89176 Reindeer\n",
       "52 99.47991 Reindeer\n",
       "53 73.37470 Reindeer\n",
       "54 79.82034 Reindeer\n",
       "55 95.14934 Reindeer\n",
       "56 73.85836 Reindeer\n",
       "57 69.42894 Reindeer\n",
       "58 66.00036 Reindeer\n",
       "59 94.38486 Reindeer\n",
       "60 90.48304 Reindeer"
      ]
     },
     "metadata": {},
     "output_type": "display_data"
    }
   ],
   "source": [
    "DeerStudy"
   ]
  },
  {
   "cell_type": "markdown",
   "id": "9311c1ee-e60f-46b7-a56a-1e15095e59bc",
   "metadata": {},
   "source": [
    "We can look at just the top of this spreadsheet."
   ]
  },
  {
   "cell_type": "code",
   "execution_count": 26,
   "id": "10d529da-ef20-41b9-9ec7-908d2f6a4b69",
   "metadata": {},
   "outputs": [
    {
     "data": {
      "text/html": [
       "<table class=\"dataframe\">\n",
       "<caption>A data.frame: 6 × 2</caption>\n",
       "<thead>\n",
       "\t<tr><th></th><th scope=col>Weight</th><th scope=col>Species</th></tr>\n",
       "\t<tr><th></th><th scope=col>&lt;dbl&gt;</th><th scope=col>&lt;chr&gt;</th></tr>\n",
       "</thead>\n",
       "<tbody>\n",
       "\t<tr><th scope=row>1</th><td>58.09206</td><td>Deer</td></tr>\n",
       "\t<tr><th scope=row>2</th><td>68.25331</td><td>Deer</td></tr>\n",
       "\t<tr><th scope=row>3</th><td>36.72169</td><td>Deer</td></tr>\n",
       "\t<tr><th scope=row>4</th><td>53.70168</td><td>Deer</td></tr>\n",
       "\t<tr><th scope=row>5</th><td>72.55366</td><td>Deer</td></tr>\n",
       "\t<tr><th scope=row>6</th><td>61.30738</td><td>Deer</td></tr>\n",
       "</tbody>\n",
       "</table>\n"
      ],
      "text/latex": [
       "A data.frame: 6 × 2\n",
       "\\begin{tabular}{r|ll}\n",
       "  & Weight & Species\\\\\n",
       "  & <dbl> & <chr>\\\\\n",
       "\\hline\n",
       "\t1 & 58.09206 & Deer\\\\\n",
       "\t2 & 68.25331 & Deer\\\\\n",
       "\t3 & 36.72169 & Deer\\\\\n",
       "\t4 & 53.70168 & Deer\\\\\n",
       "\t5 & 72.55366 & Deer\\\\\n",
       "\t6 & 61.30738 & Deer\\\\\n",
       "\\end{tabular}\n"
      ],
      "text/markdown": [
       "\n",
       "A data.frame: 6 × 2\n",
       "\n",
       "| <!--/--> | Weight &lt;dbl&gt; | Species &lt;chr&gt; |\n",
       "|---|---|---|\n",
       "| 1 | 58.09206 | Deer |\n",
       "| 2 | 68.25331 | Deer |\n",
       "| 3 | 36.72169 | Deer |\n",
       "| 4 | 53.70168 | Deer |\n",
       "| 5 | 72.55366 | Deer |\n",
       "| 6 | 61.30738 | Deer |\n",
       "\n"
      ],
      "text/plain": [
       "  Weight   Species\n",
       "1 58.09206 Deer   \n",
       "2 68.25331 Deer   \n",
       "3 36.72169 Deer   \n",
       "4 53.70168 Deer   \n",
       "5 72.55366 Deer   \n",
       "6 61.30738 Deer   "
      ]
     },
     "metadata": {},
     "output_type": "display_data"
    }
   ],
   "source": [
    "head(DeerStudy)"
   ]
  },
  {
   "cell_type": "markdown",
   "id": "21dea1b3-09c3-40f1-91d0-896897eebb3b",
   "metadata": {},
   "source": [
    "We can also pick out specific variables to do stuff to. We use the '$' for this."
   ]
  },
  {
   "cell_type": "code",
   "execution_count": 27,
   "id": "eb8f3359-f073-4ba3-9ac2-0fa26f38e133",
   "metadata": {},
   "outputs": [
    {
     "data": {
      "text/html": [
       "<style>\n",
       ".list-inline {list-style: none; margin:0; padding: 0}\n",
       ".list-inline>li {display: inline-block}\n",
       ".list-inline>li:not(:last-child)::after {content: \"\\00b7\"; padding: 0 .5ex}\n",
       "</style>\n",
       "<ol class=list-inline><li>'Deer'</li><li>'Deer'</li><li>'Deer'</li><li>'Deer'</li><li>'Deer'</li><li>'Deer'</li><li>'Deer'</li><li>'Deer'</li><li>'Deer'</li><li>'Deer'</li><li>'Deer'</li><li>'Deer'</li><li>'Deer'</li><li>'Deer'</li><li>'Deer'</li><li>'Deer'</li><li>'Deer'</li><li>'Deer'</li><li>'Deer'</li><li>'Deer'</li><li>'Deer'</li><li>'Deer'</li><li>'Deer'</li><li>'Deer'</li><li>'Deer'</li><li>'Deer'</li><li>'Deer'</li><li>'Deer'</li><li>'Deer'</li><li>'Deer'</li><li>'Reindeer'</li><li>'Reindeer'</li><li>'Reindeer'</li><li>'Reindeer'</li><li>'Reindeer'</li><li>'Reindeer'</li><li>'Reindeer'</li><li>'Reindeer'</li><li>'Reindeer'</li><li>'Reindeer'</li><li>'Reindeer'</li><li>'Reindeer'</li><li>'Reindeer'</li><li>'Reindeer'</li><li>'Reindeer'</li><li>'Reindeer'</li><li>'Reindeer'</li><li>'Reindeer'</li><li>'Reindeer'</li><li>'Reindeer'</li><li>'Reindeer'</li><li>'Reindeer'</li><li>'Reindeer'</li><li>'Reindeer'</li><li>'Reindeer'</li><li>'Reindeer'</li><li>'Reindeer'</li><li>'Reindeer'</li><li>'Reindeer'</li><li>'Reindeer'</li></ol>\n"
      ],
      "text/latex": [
       "\\begin{enumerate*}\n",
       "\\item 'Deer'\n",
       "\\item 'Deer'\n",
       "\\item 'Deer'\n",
       "\\item 'Deer'\n",
       "\\item 'Deer'\n",
       "\\item 'Deer'\n",
       "\\item 'Deer'\n",
       "\\item 'Deer'\n",
       "\\item 'Deer'\n",
       "\\item 'Deer'\n",
       "\\item 'Deer'\n",
       "\\item 'Deer'\n",
       "\\item 'Deer'\n",
       "\\item 'Deer'\n",
       "\\item 'Deer'\n",
       "\\item 'Deer'\n",
       "\\item 'Deer'\n",
       "\\item 'Deer'\n",
       "\\item 'Deer'\n",
       "\\item 'Deer'\n",
       "\\item 'Deer'\n",
       "\\item 'Deer'\n",
       "\\item 'Deer'\n",
       "\\item 'Deer'\n",
       "\\item 'Deer'\n",
       "\\item 'Deer'\n",
       "\\item 'Deer'\n",
       "\\item 'Deer'\n",
       "\\item 'Deer'\n",
       "\\item 'Deer'\n",
       "\\item 'Reindeer'\n",
       "\\item 'Reindeer'\n",
       "\\item 'Reindeer'\n",
       "\\item 'Reindeer'\n",
       "\\item 'Reindeer'\n",
       "\\item 'Reindeer'\n",
       "\\item 'Reindeer'\n",
       "\\item 'Reindeer'\n",
       "\\item 'Reindeer'\n",
       "\\item 'Reindeer'\n",
       "\\item 'Reindeer'\n",
       "\\item 'Reindeer'\n",
       "\\item 'Reindeer'\n",
       "\\item 'Reindeer'\n",
       "\\item 'Reindeer'\n",
       "\\item 'Reindeer'\n",
       "\\item 'Reindeer'\n",
       "\\item 'Reindeer'\n",
       "\\item 'Reindeer'\n",
       "\\item 'Reindeer'\n",
       "\\item 'Reindeer'\n",
       "\\item 'Reindeer'\n",
       "\\item 'Reindeer'\n",
       "\\item 'Reindeer'\n",
       "\\item 'Reindeer'\n",
       "\\item 'Reindeer'\n",
       "\\item 'Reindeer'\n",
       "\\item 'Reindeer'\n",
       "\\item 'Reindeer'\n",
       "\\item 'Reindeer'\n",
       "\\end{enumerate*}\n"
      ],
      "text/markdown": [
       "1. 'Deer'\n",
       "2. 'Deer'\n",
       "3. 'Deer'\n",
       "4. 'Deer'\n",
       "5. 'Deer'\n",
       "6. 'Deer'\n",
       "7. 'Deer'\n",
       "8. 'Deer'\n",
       "9. 'Deer'\n",
       "10. 'Deer'\n",
       "11. 'Deer'\n",
       "12. 'Deer'\n",
       "13. 'Deer'\n",
       "14. 'Deer'\n",
       "15. 'Deer'\n",
       "16. 'Deer'\n",
       "17. 'Deer'\n",
       "18. 'Deer'\n",
       "19. 'Deer'\n",
       "20. 'Deer'\n",
       "21. 'Deer'\n",
       "22. 'Deer'\n",
       "23. 'Deer'\n",
       "24. 'Deer'\n",
       "25. 'Deer'\n",
       "26. 'Deer'\n",
       "27. 'Deer'\n",
       "28. 'Deer'\n",
       "29. 'Deer'\n",
       "30. 'Deer'\n",
       "31. 'Reindeer'\n",
       "32. 'Reindeer'\n",
       "33. 'Reindeer'\n",
       "34. 'Reindeer'\n",
       "35. 'Reindeer'\n",
       "36. 'Reindeer'\n",
       "37. 'Reindeer'\n",
       "38. 'Reindeer'\n",
       "39. 'Reindeer'\n",
       "40. 'Reindeer'\n",
       "41. 'Reindeer'\n",
       "42. 'Reindeer'\n",
       "43. 'Reindeer'\n",
       "44. 'Reindeer'\n",
       "45. 'Reindeer'\n",
       "46. 'Reindeer'\n",
       "47. 'Reindeer'\n",
       "48. 'Reindeer'\n",
       "49. 'Reindeer'\n",
       "50. 'Reindeer'\n",
       "51. 'Reindeer'\n",
       "52. 'Reindeer'\n",
       "53. 'Reindeer'\n",
       "54. 'Reindeer'\n",
       "55. 'Reindeer'\n",
       "56. 'Reindeer'\n",
       "57. 'Reindeer'\n",
       "58. 'Reindeer'\n",
       "59. 'Reindeer'\n",
       "60. 'Reindeer'\n",
       "\n",
       "\n"
      ],
      "text/plain": [
       " [1] \"Deer\"     \"Deer\"     \"Deer\"     \"Deer\"     \"Deer\"     \"Deer\"    \n",
       " [7] \"Deer\"     \"Deer\"     \"Deer\"     \"Deer\"     \"Deer\"     \"Deer\"    \n",
       "[13] \"Deer\"     \"Deer\"     \"Deer\"     \"Deer\"     \"Deer\"     \"Deer\"    \n",
       "[19] \"Deer\"     \"Deer\"     \"Deer\"     \"Deer\"     \"Deer\"     \"Deer\"    \n",
       "[25] \"Deer\"     \"Deer\"     \"Deer\"     \"Deer\"     \"Deer\"     \"Deer\"    \n",
       "[31] \"Reindeer\" \"Reindeer\" \"Reindeer\" \"Reindeer\" \"Reindeer\" \"Reindeer\"\n",
       "[37] \"Reindeer\" \"Reindeer\" \"Reindeer\" \"Reindeer\" \"Reindeer\" \"Reindeer\"\n",
       "[43] \"Reindeer\" \"Reindeer\" \"Reindeer\" \"Reindeer\" \"Reindeer\" \"Reindeer\"\n",
       "[49] \"Reindeer\" \"Reindeer\" \"Reindeer\" \"Reindeer\" \"Reindeer\" \"Reindeer\"\n",
       "[55] \"Reindeer\" \"Reindeer\" \"Reindeer\" \"Reindeer\" \"Reindeer\" \"Reindeer\""
      ]
     },
     "metadata": {},
     "output_type": "display_data"
    }
   ],
   "source": [
    "DeerStudy$Species"
   ]
  },
  {
   "cell_type": "markdown",
   "id": "fdc5873a-36a7-4862-9640-213902b19a78",
   "metadata": {},
   "source": [
    "We can also save our spreadsheet."
   ]
  },
  {
   "cell_type": "code",
   "execution_count": 28,
   "id": "7f598794-26c4-4f25-a274-049e1b5e5838",
   "metadata": {},
   "outputs": [],
   "source": [
    "save(DeerStudy, file = \"DeerStudy.RData\")"
   ]
  },
  {
   "cell_type": "markdown",
   "id": "372cb28c-dcc1-470f-af05-d0cc651d1b5e",
   "metadata": {},
   "source": [
    "# Part 3 - Basic plotting"
   ]
  },
  {
   "cell_type": "markdown",
   "id": "183f8f30-0e1f-45de-9999-f9b31e06b85a",
   "metadata": {},
   "source": [
    "Plotting is very important. It allows you to see relationships between variables. There are different kinds of plots that are useful for different kinds of relationships."
   ]
  },
  {
   "cell_type": "markdown",
   "id": "a17a5ec9-1a42-4ba2-bc41-15632b56468f",
   "metadata": {},
   "source": [
    "If you want to plot something very quickly, base R (when you don't download any extra packages) has some great options."
   ]
  },
  {
   "cell_type": "markdown",
   "id": "4e3d1012-0552-4e5a-9ad6-668825b31d60",
   "metadata": {},
   "source": [
    "To visualize the relationship between two continuous variables, you can use a scatterplot..."
   ]
  },
  {
   "cell_type": "code",
   "execution_count": 29,
   "id": "6d67b8a1-6a17-4e49-854e-a063fcf50a6f",
   "metadata": {},
   "outputs": [
    {
     "data": {
      "image/png": "[encoded data removed]",
      "text/plain": [
       "plot without title"
      ]
     },
     "metadata": {
      "image/png": {
       "height": 420,
       "width": 420
      }
     },
     "output_type": "display_data"
    }
   ],
   "source": [
    "plot(A, C)"
   ]
  },
  {
   "cell_type": "code",
   "execution_count": 30,
   "id": "40ad0a16-c32f-4e96-b971-40cc6fb17f16",
   "metadata": {},
   "outputs": [
    {
     "data": {
      "image/png": "[encoded data removed]",
      "text/plain": [
       "plot without title"
      ]
     },
     "metadata": {
      "image/png": {
       "height": 420,
       "width": 420
      }
     },
     "output_type": "display_data"
    }
   ],
   "source": [
    "plot(C~A)"
   ]
  },
  {
   "cell_type": "markdown",
   "id": "2f4bd725-a55b-4052-bcbe-09e8c8e6b49b",
   "metadata": {},
   "source": [
    "... while boxplots tell you the relationship between categorical and continuous variables."
   ]
  },
  {
   "cell_type": "code",
   "execution_count": 32,
   "id": "544e77c0-1f05-4b15-9a01-97b2bfb32bd9",
   "metadata": {},
   "outputs": [
    {
     "data": {
      "image/png": "[encoded data removed]",
      "text/plain": [
       "plot without title"
      ]
     },
     "metadata": {
      "image/png": {
       "height": 420,
       "width": 420
      }
     },
     "output_type": "display_data"
    }
   ],
   "source": [
    "boxplot(Weight~Species)"
   ]
  },
  {
   "cell_type": "markdown",
   "id": "8a26b67a-2d29-4b1e-a4f7-a09c4fc99c95",
   "metadata": {},
   "source": [
    "The tilde \"~\" is important in R. It can be read to mean \"as a function of\", or \"distributed as\". You will see it again, and you will get used to it. This little syntactic difference is important, because it can allow us to make the same plot using different kinds of data structures. "
   ]
  },
  {
   "cell_type": "markdown",
   "id": "b69a4905-15de-4f77-8805-a12905fb2b9a",
   "metadata": {},
   "source": [
    "These plots are a bit ugly. Even base R can make beautiful plots, you can look at options to fancy plots up using the ?plot command."
   ]
  },
  {
   "cell_type": "markdown",
   "id": "45533359-55d9-494b-967b-d555b3ad2206",
   "metadata": {},
   "source": [
    "A lot of the R community uses a package called ggplot2 to plot. It is very well-documented online and has a lot of options for customization. Packages are like modules in Python. We'll talk a bit more about packages next class. For now, let's just install and load:"
   ]
  },
  {
   "cell_type": "code",
   "execution_count": 34,
   "id": "aabd77ff-acd8-409a-980d-67b97ef71e7d",
   "metadata": {
    "scrolled": true
   },
   "outputs": [
    {
     "name": "stderr",
     "output_type": "stream",
     "text": [
      "Installing package into ‘/usr/local/spark-3.5.2-bin-hadoop3/R/lib’\n",
      "(as ‘lib’ is unspecified)\n",
      "\n",
      "Installing package into ‘/usr/local/spark-3.5.2-bin-hadoop3/R/lib’\n",
      "(as ‘lib’ is unspecified)\n",
      "\n"
     ]
    }
   ],
   "source": [
    "install.packages(\"dplyr\")\n",
    "install.packages(\"ggplot2\")"
   ]
  },
  {
   "cell_type": "code",
   "execution_count": 35,
   "id": "f75d56cf-57b3-4789-b072-11a88be731f0",
   "metadata": {},
   "outputs": [
    {
     "name": "stderr",
     "output_type": "stream",
     "text": [
      "\n",
      "Attaching package: ‘dplyr’\n",
      "\n",
      "\n",
      "The following objects are masked from ‘package:stats’:\n",
      "\n",
      "    filter, lag\n",
      "\n",
      "\n",
      "The following objects are masked from ‘package:base’:\n",
      "\n",
      "    intersect, setdiff, setequal, union\n",
      "\n",
      "\n"
     ]
    }
   ],
   "source": [
    "library(ggplot2)\n",
    "library(dplyr)"
   ]
  },
  {
   "cell_type": "code",
   "execution_count": 37,
   "id": "a3a9cf28-9973-42ef-bfd7-a0c82dacb1e3",
   "metadata": {},
   "outputs": [
    {
     "data": {
      "image/png": "[encoded data removed]",
      "text/plain": [
       "plot without title"
      ]
     },
     "metadata": {
      "image/png": {
       "height": 420,
       "width": 420
      }
     },
     "output_type": "display_data"
    }
   ],
   "source": [
    "ggplot(DeerStudy,\n",
    "       aes(x = Species,\n",
    "           y = Weight)) +\n",
    "geom_boxplot()"
   ]
  },
  {
   "cell_type": "markdown",
   "id": "8d84d33e-8796-44de-96b1-4b752be7fc62",
   "metadata": {},
   "source": [
    "ggplot2 is a very modular way of plotting. You give commands in a sequential order, and the output of one command is passed to the command with a '+' operator."
   ]
  },
  {
   "cell_type": "markdown",
   "id": "910c3e21-f8d0-43aa-98aa-61c7882eef3c",
   "metadata": {},
   "source": [
    "The first block (before the + sign) specifies the data we want to use and how we want to use it. Using + signs, we can add extra options, for example the style of plot. You can really go crazy with the customizations!"
   ]
  },
  {
   "cell_type": "code",
   "execution_count": 44,
   "id": "316dd5c9-f806-4a97-b37e-7445f65b6d30",
   "metadata": {},
   "outputs": [
    {
     "data": {
      "image/png": "[encoded data removed]",
      "text/plain": [
       "plot without title"
      ]
     },
     "metadata": {
      "image/png": {
       "height": 420,
       "width": 420
      }
     },
     "output_type": "display_data"
    }
   ],
   "source": [
    "ggplot(DeerStudy,\n",
    "       aes(x = Species,\n",
    "           y = Weight,\n",
    "          fill = Species)) +\n",
    "geom_boxplot() +\n",
    "scale_fill_manual(values = c(\"gold\", \"darkgreen\")) +\n",
    "labs(title = \"Deer weight\",\n",
    "     x = \"Species\",\n",
    "     y = \"Weight (kg)\") +\n",
    "theme_minimal()\n"
   ]
  },
  {
   "cell_type": "markdown",
   "id": "9295e5bb-1c71-4831-88f5-75d2166b2a01",
   "metadata": {},
   "source": [
    "There are several excellent resources for learning about ggplot2. Try to play around with them. For example: https://rstudio.github.io/cheatsheets/html/data-visualization.html"
   ]
  },
  {
   "cell_type": "markdown",
   "id": "3da06e77-614e-42da-b9cf-157a7fea72e3",
   "metadata": {},
   "source": [
    "You have encountered some basic plotting functions in R. You have learned the tilde operator. You have learned how to search the help documentation."
   ]
  },
  {
   "cell_type": "markdown",
   "id": "66fb8cb2-317b-4a2a-948d-8e449fc2651b",
   "metadata": {},
   "source": [
    "# Part 4 - Indexing and basic statistics"
   ]
  },
  {
   "cell_type": "markdown",
   "id": "50f48782-ca8d-435f-af20-6f01228c3a50",
   "metadata": {},
   "source": [
    "R is a statistical language, and so it has functions for running statistical operations and models."
   ]
  },
  {
   "cell_type": "markdown",
   "id": "3e477b15-ea0e-4643-8566-17f0a08d0dfc",
   "metadata": {},
   "source": [
    "We can calculate the average a of variable:"
   ]
  },
  {
   "cell_type": "code",
   "execution_count": 45,
   "id": "a6604c10-f68e-47fc-bed9-23bf9517abc6",
   "metadata": {},
   "outputs": [
    {
     "data": {
      "text/html": [
       "70.1344230699715"
      ],
      "text/latex": [
       "70.1344230699715"
      ],
      "text/markdown": [
       "70.1344230699715"
      ],
      "text/plain": [
       "[1] 70.13442"
      ]
     },
     "metadata": {},
     "output_type": "display_data"
    }
   ],
   "source": [
    "mean(Weight)"
   ]
  },
  {
   "cell_type": "markdown",
   "id": "1d89257f-15ce-43ed-8f06-2d3d27661a62",
   "metadata": {},
   "source": [
    "Sometimes we are interested in sorting or carving our data up, and doing stats on a part of it. We can use indexing for this. For example, we might just want the average of each species in our study"
   ]
  },
  {
   "cell_type": "markdown",
   "id": "a56ecdb1-3f3e-466a-ba70-f9c324648a89",
   "metadata": {},
   "source": [
    "Let's look at how to extract weights for either just the Deers or the Reindeers in our study"
   ]
  },
  {
   "cell_type": "code",
   "execution_count": 46,
   "id": "9facde6b-0bcf-4f3f-8c63-21dd37d7b64d",
   "metadata": {},
   "outputs": [
    {
     "data": {
      "text/html": [
       "<style>\n",
       ".list-inline {list-style: none; margin:0; padding: 0}\n",
       ".list-inline>li {display: inline-block}\n",
       ".list-inline>li:not(:last-child)::after {content: \"\\00b7\"; padding: 0 .5ex}\n",
       "</style>\n",
       "<ol class=list-inline><li>58.6894962714686</li><li>46.6918250437606</li><li>59.2592166282078</li><li>67.271508191869</li><li>47.0246170379616</li><li>51.0330379004519</li><li>69.6306261555846</li><li>66.1412888764003</li><li>60.6119686967313</li><li>63.3511205877071</li><li>56.3326403107385</li><li>65.7468525547617</li><li>70.2607568390141</li><li>48.314415203013</li><li>66.4784099237139</li><li>54.4361637017954</li><li>74.1012686917601</li><li>57.3636472659154</li><li>51.6839788243051</li><li>66.6617431018012</li><li>53.7836722603096</li><li>71.9367851390371</li><li>72.4264362002947</li><li>49.6346183281831</li><li>63.9920426855996</li><li>70.5724291207105</li><li>73.9361086385204</li><li>55.9029055221883</li><li>53.1371089220707</li><li>57.7274301555299</li></ol>\n"
      ],
      "text/latex": [
       "\\begin{enumerate*}\n",
       "\\item 58.6894962714686\n",
       "\\item 46.6918250437606\n",
       "\\item 59.2592166282078\n",
       "\\item 67.271508191869\n",
       "\\item 47.0246170379616\n",
       "\\item 51.0330379004519\n",
       "\\item 69.6306261555846\n",
       "\\item 66.1412888764003\n",
       "\\item 60.6119686967313\n",
       "\\item 63.3511205877071\n",
       "\\item 56.3326403107385\n",
       "\\item 65.7468525547617\n",
       "\\item 70.2607568390141\n",
       "\\item 48.314415203013\n",
       "\\item 66.4784099237139\n",
       "\\item 54.4361637017954\n",
       "\\item 74.1012686917601\n",
       "\\item 57.3636472659154\n",
       "\\item 51.6839788243051\n",
       "\\item 66.6617431018012\n",
       "\\item 53.7836722603096\n",
       "\\item 71.9367851390371\n",
       "\\item 72.4264362002947\n",
       "\\item 49.6346183281831\n",
       "\\item 63.9920426855996\n",
       "\\item 70.5724291207105\n",
       "\\item 73.9361086385204\n",
       "\\item 55.9029055221883\n",
       "\\item 53.1371089220707\n",
       "\\item 57.7274301555299\n",
       "\\end{enumerate*}\n"
      ],
      "text/markdown": [
       "1. 58.6894962714686\n",
       "2. 46.6918250437606\n",
       "3. 59.2592166282078\n",
       "4. 67.271508191869\n",
       "5. 47.0246170379616\n",
       "6. 51.0330379004519\n",
       "7. 69.6306261555846\n",
       "8. 66.1412888764003\n",
       "9. 60.6119686967313\n",
       "10. 63.3511205877071\n",
       "11. 56.3326403107385\n",
       "12. 65.7468525547617\n",
       "13. 70.2607568390141\n",
       "14. 48.314415203013\n",
       "15. 66.4784099237139\n",
       "16. 54.4361637017954\n",
       "17. 74.1012686917601\n",
       "18. 57.3636472659154\n",
       "19. 51.6839788243051\n",
       "20. 66.6617431018012\n",
       "21. 53.7836722603096\n",
       "22. 71.9367851390371\n",
       "23. 72.4264362002947\n",
       "24. 49.6346183281831\n",
       "25. 63.9920426855996\n",
       "26. 70.5724291207105\n",
       "27. 73.9361086385204\n",
       "28. 55.9029055221883\n",
       "29. 53.1371089220707\n",
       "30. 57.7274301555299\n",
       "\n",
       "\n"
      ],
      "text/plain": [
       " [1] 58.68950 46.69183 59.25922 67.27151 47.02462 51.03304 69.63063 66.14129\n",
       " [9] 60.61197 63.35112 56.33264 65.74685 70.26076 48.31442 66.47841 54.43616\n",
       "[17] 74.10127 57.36365 51.68398 66.66174 53.78367 71.93679 72.42644 49.63462\n",
       "[25] 63.99204 70.57243 73.93611 55.90291 53.13711 57.72743"
      ]
     },
     "metadata": {},
     "output_type": "display_data"
    }
   ],
   "source": [
    "Weight[Species==\"Deer\"]"
   ]
  },
  {
   "cell_type": "code",
   "execution_count": 47,
   "id": "0e1c94c2-f61e-43c8-8066-db6a80b77ae0",
   "metadata": {},
   "outputs": [
    {
     "data": {
      "text/html": [
       "<style>\n",
       ".list-inline {list-style: none; margin:0; padding: 0}\n",
       ".list-inline>li {display: inline-block}\n",
       ".list-inline>li:not(:last-child)::after {content: \"\\00b7\"; padding: 0 .5ex}\n",
       "</style>\n",
       "<ol class=list-inline><li>76.3162079470802</li><li>91.4937906401406</li><li>72.6622889128866</li><li>64.595036341616</li><li>79.1397418287679</li><li>81.9460553793358</li><li>97.6003071292807</li><li>78.0749079985768</li><li>77.8037479948329</li><li>85.9705135128174</li><li>80.3210239037352</li><li>73.6269492712988</li><li>69.8526955376068</li><li>85.7631076089809</li><li>67.5753771348806</li><li>78.8956534682358</li><li>74.2500263936045</li><li>81.7081143017309</li><li>79.1626810973291</li><li>89.390951120676</li><li>92.0551993112225</li><li>78.1487054031715</li><li>81.1314394365613</li><li>78.7878339320689</li><li>75.786861803154</li><li>80.1666182635397</li><li>80.7354420154479</li><li>73.7039461161437</li><li>83.4328721711519</li><li>73.8331694430106</li></ol>\n"
      ],
      "text/latex": [
       "\\begin{enumerate*}\n",
       "\\item 76.3162079470802\n",
       "\\item 91.4937906401406\n",
       "\\item 72.6622889128866\n",
       "\\item 64.595036341616\n",
       "\\item 79.1397418287679\n",
       "\\item 81.9460553793358\n",
       "\\item 97.6003071292807\n",
       "\\item 78.0749079985768\n",
       "\\item 77.8037479948329\n",
       "\\item 85.9705135128174\n",
       "\\item 80.3210239037352\n",
       "\\item 73.6269492712988\n",
       "\\item 69.8526955376068\n",
       "\\item 85.7631076089809\n",
       "\\item 67.5753771348806\n",
       "\\item 78.8956534682358\n",
       "\\item 74.2500263936045\n",
       "\\item 81.7081143017309\n",
       "\\item 79.1626810973291\n",
       "\\item 89.390951120676\n",
       "\\item 92.0551993112225\n",
       "\\item 78.1487054031715\n",
       "\\item 81.1314394365613\n",
       "\\item 78.7878339320689\n",
       "\\item 75.786861803154\n",
       "\\item 80.1666182635397\n",
       "\\item 80.7354420154479\n",
       "\\item 73.7039461161437\n",
       "\\item 83.4328721711519\n",
       "\\item 73.8331694430106\n",
       "\\end{enumerate*}\n"
      ],
      "text/markdown": [
       "1. 76.3162079470802\n",
       "2. 91.4937906401406\n",
       "3. 72.6622889128866\n",
       "4. 64.595036341616\n",
       "5. 79.1397418287679\n",
       "6. 81.9460553793358\n",
       "7. 97.6003071292807\n",
       "8. 78.0749079985768\n",
       "9. 77.8037479948329\n",
       "10. 85.9705135128174\n",
       "11. 80.3210239037352\n",
       "12. 73.6269492712988\n",
       "13. 69.8526955376068\n",
       "14. 85.7631076089809\n",
       "15. 67.5753771348806\n",
       "16. 78.8956534682358\n",
       "17. 74.2500263936045\n",
       "18. 81.7081143017309\n",
       "19. 79.1626810973291\n",
       "20. 89.390951120676\n",
       "21. 92.0551993112225\n",
       "22. 78.1487054031715\n",
       "23. 81.1314394365613\n",
       "24. 78.7878339320689\n",
       "25. 75.786861803154\n",
       "26. 80.1666182635397\n",
       "27. 80.7354420154479\n",
       "28. 73.7039461161437\n",
       "29. 83.4328721711519\n",
       "30. 73.8331694430106\n",
       "\n",
       "\n"
      ],
      "text/plain": [
       " [1] 76.31621 91.49379 72.66229 64.59504 79.13974 81.94606 97.60031 78.07491\n",
       " [9] 77.80375 85.97051 80.32102 73.62695 69.85270 85.76311 67.57538 78.89565\n",
       "[17] 74.25003 81.70811 79.16268 89.39095 92.05520 78.14871 81.13144 78.78783\n",
       "[25] 75.78686 80.16662 80.73544 73.70395 83.43287 73.83317"
      ]
     },
     "metadata": {},
     "output_type": "display_data"
    }
   ],
   "source": [
    "Weight[Species==\"Reindeer\"]"
   ]
  },
  {
   "cell_type": "markdown",
   "id": "57b547cd-5282-4214-a1a2-297ad830097f",
   "metadata": {},
   "source": [
    "...so that we can compare the average weight"
   ]
  },
  {
   "cell_type": "code",
   "execution_count": 48,
   "id": "9990886d-6ac5-4e29-85de-747d0ad4c3c1",
   "metadata": {},
   "outputs": [
    {
     "data": {
      "text/html": [
       "60.8044706259802"
      ],
      "text/latex": [
       "60.8044706259802"
      ],
      "text/markdown": [
       "60.8044706259802"
      ],
      "text/plain": [
       "[1] 60.80447"
      ]
     },
     "metadata": {},
     "output_type": "display_data"
    }
   ],
   "source": [
    "mean(Weight[Species==\"Deer\"])"
   ]
  },
  {
   "cell_type": "code",
   "execution_count": 49,
   "id": "abf1dba4-e853-4c25-9b35-6f13ec307363",
   "metadata": {},
   "outputs": [
    {
     "data": {
      "text/html": [
       "79.4643755139628"
      ],
      "text/latex": [
       "79.4643755139628"
      ],
      "text/markdown": [
       "79.4643755139628"
      ],
      "text/plain": [
       "[1] 79.46438"
      ]
     },
     "metadata": {},
     "output_type": "display_data"
    }
   ],
   "source": [
    "mean(Weight[Species==\"Reindeer\"])"
   ]
  },
  {
   "cell_type": "markdown",
   "id": "9f166575-3af4-4bff-9631-9916303268b5",
   "metadata": {},
   "source": [
    "Indexing is incredibly useful. You need to know it. But it is awkward for data frames. We can make a table instead using some basic data manipulation functions. This new table is a new data frame"
   ]
  },
  {
   "cell_type": "code",
   "execution_count": 108,
   "id": "5cf24b76-ad38-4558-b685-1f0abb95f064",
   "metadata": {},
   "outputs": [],
   "source": [
    "meanTable <- DeerStudy %>%\n",
    "group_by(Species) %>%\n",
    "summarize(MeanWeight = mean(Weight))"
   ]
  },
  {
   "cell_type": "code",
   "execution_count": 51,
   "id": "91510085-e3e0-4206-8b29-6ebe57db237f",
   "metadata": {},
   "outputs": [
    {
     "data": {
      "text/html": [
       "<table class=\"dataframe\">\n",
       "<caption>A tibble: 2 × 2</caption>\n",
       "<thead>\n",
       "\t<tr><th scope=col>Species</th><th scope=col>mean(Weight)</th></tr>\n",
       "\t<tr><th scope=col>&lt;chr&gt;</th><th scope=col>&lt;dbl&gt;</th></tr>\n",
       "</thead>\n",
       "<tbody>\n",
       "\t<tr><td>Deer    </td><td>58.86318</td></tr>\n",
       "\t<tr><td>Reindeer</td><td>79.97775</td></tr>\n",
       "</tbody>\n",
       "</table>\n"
      ],
      "text/latex": [
       "A tibble: 2 × 2\n",
       "\\begin{tabular}{ll}\n",
       " Species & mean(Weight)\\\\\n",
       " <chr> & <dbl>\\\\\n",
       "\\hline\n",
       "\t Deer     & 58.86318\\\\\n",
       "\t Reindeer & 79.97775\\\\\n",
       "\\end{tabular}\n"
      ],
      "text/markdown": [
       "\n",
       "A tibble: 2 × 2\n",
       "\n",
       "| Species &lt;chr&gt; | mean(Weight) &lt;dbl&gt; |\n",
       "|---|---|\n",
       "| Deer     | 58.86318 |\n",
       "| Reindeer | 79.97775 |\n",
       "\n"
      ],
      "text/plain": [
       "  Species  mean(Weight)\n",
       "1 Deer     58.86318    \n",
       "2 Reindeer 79.97775    "
      ]
     },
     "metadata": {},
     "output_type": "display_data"
    }
   ],
   "source": [
    "meanTable"
   ]
  },
  {
   "cell_type": "markdown",
   "id": "f31aed63-90b9-497f-8baf-e034626dff8c",
   "metadata": {},
   "source": [
    "This is the exact same logic as with the plotting. First you define the data you are working on, then you sequentially operate on it. This is called \"piping\"."
   ]
  },
  {
   "cell_type": "markdown",
   "id": "cd8557f1-fb50-4db7-a6cc-834c89d809dd",
   "metadata": {},
   "source": [
    "The mean is only one statistic. We can also look at other statistics. How about the median?"
   ]
  },
  {
   "cell_type": "code",
   "execution_count": 52,
   "id": "7184cb98-8833-4e9b-945d-73c6276a1e16",
   "metadata": {},
   "outputs": [],
   "source": [
    "medianTable <- DeerStudy %>%\n",
    "group_by(Species) %>%\n",
    "summarize(MedianWeight = median(Weight))"
   ]
  },
  {
   "cell_type": "code",
   "execution_count": 53,
   "id": "98730cc9-fd1e-46b7-94a3-3a6ea1a11337",
   "metadata": {},
   "outputs": [
    {
     "data": {
      "text/html": [
       "<table class=\"dataframe\">\n",
       "<caption>A tibble: 2 × 2</caption>\n",
       "<thead>\n",
       "\t<tr><th scope=col>Species</th><th scope=col>MedianWeight</th></tr>\n",
       "\t<tr><th scope=col>&lt;chr&gt;</th><th scope=col>&lt;dbl&gt;</th></tr>\n",
       "</thead>\n",
       "<tbody>\n",
       "\t<tr><td>Deer    </td><td>58.97253</td></tr>\n",
       "\t<tr><td>Reindeer</td><td>78.49571</td></tr>\n",
       "</tbody>\n",
       "</table>\n"
      ],
      "text/latex": [
       "A tibble: 2 × 2\n",
       "\\begin{tabular}{ll}\n",
       " Species & MedianWeight\\\\\n",
       " <chr> & <dbl>\\\\\n",
       "\\hline\n",
       "\t Deer     & 58.97253\\\\\n",
       "\t Reindeer & 78.49571\\\\\n",
       "\\end{tabular}\n"
      ],
      "text/markdown": [
       "\n",
       "A tibble: 2 × 2\n",
       "\n",
       "| Species &lt;chr&gt; | MedianWeight &lt;dbl&gt; |\n",
       "|---|---|\n",
       "| Deer     | 58.97253 |\n",
       "| Reindeer | 78.49571 |\n",
       "\n"
      ],
      "text/plain": [
       "  Species  MedianWeight\n",
       "1 Deer     58.97253    \n",
       "2 Reindeer 78.49571    "
      ]
     },
     "metadata": {},
     "output_type": "display_data"
    }
   ],
   "source": [
    "medianTable"
   ]
  },
  {
   "cell_type": "markdown",
   "id": "d83c236f-8520-4227-aa14-459142bd1c0a",
   "metadata": {},
   "source": [
    "We can also look at the standard deviation."
   ]
  },
  {
   "cell_type": "code",
   "execution_count": 56,
   "id": "a56f9cc9-7436-4384-8568-5d171d4b3efb",
   "metadata": {},
   "outputs": [],
   "source": [
    "sdTable <- DeerStudy %>%\n",
    "group_by(Species) %>%\n",
    "summarize(SdWeight = sd(Weight))"
   ]
  },
  {
   "cell_type": "code",
   "execution_count": 57,
   "id": "36645a7d-b6fc-41e8-bacc-3e748ab937e0",
   "metadata": {},
   "outputs": [
    {
     "data": {
      "text/html": [
       "<table class=\"dataframe\">\n",
       "<caption>A tibble: 2 × 2</caption>\n",
       "<thead>\n",
       "\t<tr><th scope=col>Species</th><th scope=col>SdWeight</th></tr>\n",
       "\t<tr><th scope=col>&lt;chr&gt;</th><th scope=col>&lt;dbl&gt;</th></tr>\n",
       "</thead>\n",
       "<tbody>\n",
       "\t<tr><td>Deer    </td><td> 8.075338</td></tr>\n",
       "\t<tr><td>Reindeer</td><td>10.084074</td></tr>\n",
       "</tbody>\n",
       "</table>\n"
      ],
      "text/latex": [
       "A tibble: 2 × 2\n",
       "\\begin{tabular}{ll}\n",
       " Species & SdWeight\\\\\n",
       " <chr> & <dbl>\\\\\n",
       "\\hline\n",
       "\t Deer     &  8.075338\\\\\n",
       "\t Reindeer & 10.084074\\\\\n",
       "\\end{tabular}\n"
      ],
      "text/markdown": [
       "\n",
       "A tibble: 2 × 2\n",
       "\n",
       "| Species &lt;chr&gt; | SdWeight &lt;dbl&gt; |\n",
       "|---|---|\n",
       "| Deer     |  8.075338 |\n",
       "| Reindeer | 10.084074 |\n",
       "\n"
      ],
      "text/plain": [
       "  Species  SdWeight \n",
       "1 Deer      8.075338\n",
       "2 Reindeer 10.084074"
      ]
     },
     "metadata": {},
     "output_type": "display_data"
    }
   ],
   "source": [
    "sdTable"
   ]
  },
  {
   "cell_type": "markdown",
   "id": "7d9851c2-683b-4162-8228-8ca6df4e8645",
   "metadata": {},
   "source": [
    "Now we are almost ready to do some statistics. We will cover statistical concepts in the next lecture. BUt as a teaser, let's look at a quick comparison, and see if these means are really different."
   ]
  },
  {
   "cell_type": "code",
   "execution_count": 58,
   "id": "34100bd1-d979-4fd9-a31b-c552ab8cd97c",
   "metadata": {},
   "outputs": [
    {
     "data": {
      "text/plain": [
       "\n",
       "\tWelch Two Sample t-test\n",
       "\n",
       "data:  weight1 and weight2\n",
       "t = -9.1458, df = 56.375, p-value = 9.872e-13\n",
       "alternative hypothesis: true difference in means is not equal to 0\n",
       "95 percent confidence interval:\n",
       " -22.74645 -14.57336\n",
       "sample estimates:\n",
       "mean of x mean of y \n",
       " 60.80447  79.46438 \n"
      ]
     },
     "metadata": {},
     "output_type": "display_data"
    }
   ],
   "source": [
    "t.test(weight1, weight2)"
   ]
  },
  {
   "cell_type": "markdown",
   "id": "504a0793-73b2-481f-95ec-1f32b062a737",
   "metadata": {},
   "source": [
    "You have learned about indexing. You have learned about basic statistical functions. You have learned how to generate summary tables. You have run your first statistical simulation, and your first hypothesis test."
   ]
  },
  {
   "cell_type": "code",
   "execution_count": 89,
   "id": "7a62e552-f03b-4ba9-abef-1640e972c600",
   "metadata": {},
   "outputs": [],
   "source": [
    "early_hours <- c(5,6,8,7,7,8,8,4,5,5)"
   ]
  },
  {
   "cell_type": "code",
   "execution_count": 90,
   "id": "47dbcb8e-c188-46ee-95bc-9b68fdf9622b",
   "metadata": {},
   "outputs": [
    {
     "data": {
      "text/html": [
       "6.3"
      ],
      "text/latex": [
       "6.3"
      ],
      "text/markdown": [
       "6.3"
      ],
      "text/plain": [
       "[1] 6.3"
      ]
     },
     "metadata": {},
     "output_type": "display_data"
    }
   ],
   "source": [
    "mean(early_hours)"
   ]
  },
  {
   "cell_type": "code",
   "execution_count": 91,
   "id": "702a4281-95ed-458e-ad72-05e5c62b6e19",
   "metadata": {},
   "outputs": [],
   "source": [
    "late_hours <- c(7,6,8,8,8,8,7.5,7,5,7)"
   ]
  },
  {
   "cell_type": "code",
   "execution_count": 92,
   "id": "f74d6e4b-7ee6-427a-b65e-0e5c78acaf9a",
   "metadata": {},
   "outputs": [
    {
     "data": {
      "text/html": [
       "7.15"
      ],
      "text/latex": [
       "7.15"
      ],
      "text/markdown": [
       "7.15"
      ],
      "text/plain": [
       "[1] 7.15"
      ]
     },
     "metadata": {},
     "output_type": "display_data"
    }
   ],
   "source": [
    "mean(late_hours)"
   ]
  },
  {
   "cell_type": "code",
   "execution_count": 93,
   "id": "89d3e39c-7719-4506-a802-59805ca2d784",
   "metadata": {},
   "outputs": [
    {
     "data": {
      "text/html": [
       "10"
      ],
      "text/latex": [
       "10"
      ],
      "text/markdown": [
       "10"
      ],
      "text/plain": [
       "[1] 10"
      ]
     },
     "metadata": {},
     "output_type": "display_data"
    }
   ],
   "source": [
    "length(early_hours)"
   ]
  },
  {
   "cell_type": "code",
   "execution_count": 94,
   "id": "82826bd2-2c88-4da7-8f96-6e22e400c5eb",
   "metadata": {},
   "outputs": [],
   "source": [
    "early_class <- rep('Early', 10)"
   ]
  },
  {
   "cell_type": "code",
   "execution_count": 95,
   "id": "352b53bf-3dbf-4296-ba72-cdd2cee0c468",
   "metadata": {},
   "outputs": [],
   "source": [
    "late_class <- rep('Late', 10)"
   ]
  },
  {
   "cell_type": "code",
   "execution_count": 96,
   "id": "07c37935-5f14-47d7-b7ab-d20264d91be6",
   "metadata": {},
   "outputs": [
    {
     "data": {
      "text/html": [
       "<table class=\"dataframe\">\n",
       "<caption>A data.frame: 20 × 2</caption>\n",
       "<thead>\n",
       "\t<tr><th scope=col>Hours_slept</th><th scope=col>Class</th></tr>\n",
       "\t<tr><th scope=col>&lt;dbl&gt;</th><th scope=col>&lt;chr&gt;</th></tr>\n",
       "</thead>\n",
       "<tbody>\n",
       "\t<tr><td>5.0</td><td>Early</td></tr>\n",
       "\t<tr><td>6.0</td><td>Early</td></tr>\n",
       "\t<tr><td>8.0</td><td>Early</td></tr>\n",
       "\t<tr><td>7.0</td><td>Early</td></tr>\n",
       "\t<tr><td>7.0</td><td>Early</td></tr>\n",
       "\t<tr><td>8.0</td><td>Early</td></tr>\n",
       "\t<tr><td>8.0</td><td>Early</td></tr>\n",
       "\t<tr><td>4.0</td><td>Early</td></tr>\n",
       "\t<tr><td>5.0</td><td>Early</td></tr>\n",
       "\t<tr><td>5.0</td><td>Early</td></tr>\n",
       "\t<tr><td>7.0</td><td>Late </td></tr>\n",
       "\t<tr><td>6.0</td><td>Late </td></tr>\n",
       "\t<tr><td>8.0</td><td>Late </td></tr>\n",
       "\t<tr><td>8.0</td><td>Late </td></tr>\n",
       "\t<tr><td>8.0</td><td>Late </td></tr>\n",
       "\t<tr><td>8.0</td><td>Late </td></tr>\n",
       "\t<tr><td>7.5</td><td>Late </td></tr>\n",
       "\t<tr><td>7.0</td><td>Late </td></tr>\n",
       "\t<tr><td>5.0</td><td>Late </td></tr>\n",
       "\t<tr><td>7.0</td><td>Late </td></tr>\n",
       "</tbody>\n",
       "</table>\n"
      ],
      "text/latex": [
       "A data.frame: 20 × 2\n",
       "\\begin{tabular}{ll}\n",
       " Hours\\_slept & Class\\\\\n",
       " <dbl> & <chr>\\\\\n",
       "\\hline\n",
       "\t 5.0 & Early\\\\\n",
       "\t 6.0 & Early\\\\\n",
       "\t 8.0 & Early\\\\\n",
       "\t 7.0 & Early\\\\\n",
       "\t 7.0 & Early\\\\\n",
       "\t 8.0 & Early\\\\\n",
       "\t 8.0 & Early\\\\\n",
       "\t 4.0 & Early\\\\\n",
       "\t 5.0 & Early\\\\\n",
       "\t 5.0 & Early\\\\\n",
       "\t 7.0 & Late \\\\\n",
       "\t 6.0 & Late \\\\\n",
       "\t 8.0 & Late \\\\\n",
       "\t 8.0 & Late \\\\\n",
       "\t 8.0 & Late \\\\\n",
       "\t 8.0 & Late \\\\\n",
       "\t 7.5 & Late \\\\\n",
       "\t 7.0 & Late \\\\\n",
       "\t 5.0 & Late \\\\\n",
       "\t 7.0 & Late \\\\\n",
       "\\end{tabular}\n"
      ],
      "text/markdown": [
       "\n",
       "A data.frame: 20 × 2\n",
       "\n",
       "| Hours_slept &lt;dbl&gt; | Class &lt;chr&gt; |\n",
       "|---|---|\n",
       "| 5.0 | Early |\n",
       "| 6.0 | Early |\n",
       "| 8.0 | Early |\n",
       "| 7.0 | Early |\n",
       "| 7.0 | Early |\n",
       "| 8.0 | Early |\n",
       "| 8.0 | Early |\n",
       "| 4.0 | Early |\n",
       "| 5.0 | Early |\n",
       "| 5.0 | Early |\n",
       "| 7.0 | Late  |\n",
       "| 6.0 | Late  |\n",
       "| 8.0 | Late  |\n",
       "| 8.0 | Late  |\n",
       "| 8.0 | Late  |\n",
       "| 8.0 | Late  |\n",
       "| 7.5 | Late  |\n",
       "| 7.0 | Late  |\n",
       "| 5.0 | Late  |\n",
       "| 7.0 | Late  |\n",
       "\n"
      ],
      "text/plain": [
       "   Hours_slept Class\n",
       "1  5.0         Early\n",
       "2  6.0         Early\n",
       "3  8.0         Early\n",
       "4  7.0         Early\n",
       "5  7.0         Early\n",
       "6  8.0         Early\n",
       "7  8.0         Early\n",
       "8  4.0         Early\n",
       "9  5.0         Early\n",
       "10 5.0         Early\n",
       "11 7.0         Late \n",
       "12 6.0         Late \n",
       "13 8.0         Late \n",
       "14 8.0         Late \n",
       "15 8.0         Late \n",
       "16 8.0         Late \n",
       "17 7.5         Late \n",
       "18 7.0         Late \n",
       "19 5.0         Late \n",
       "20 7.0         Late "
      ]
     },
     "metadata": {},
     "output_type": "display_data"
    }
   ],
   "source": [
    "Hours_slept <- c(early_hours, late_hours)\n",
    "Class <- c(early_class, late_class)\n",
    "SleepStudy <- data.frame(Hours_slept, Class)\n",
    "SleepStudy"
   ]
  },
  {
   "cell_type": "code",
   "execution_count": 101,
   "id": "3041aee9-6a1c-45c8-8e89-017101cfae0d",
   "metadata": {},
   "outputs": [
    {
     "data": {
      "image/png": "[encoded data removed]",
      "text/plain": [
       "plot without title"
      ]
     },
     "metadata": {
      "image/png": {
       "height": 420,
       "width": 420
      }
     },
     "output_type": "display_data"
    }
   ],
   "source": [
    "boxplot(Hours_slept~Class)"
   ]
  },
  {
   "cell_type": "code",
   "execution_count": 114,
   "id": "26346fd3-5085-404a-ae34-2fb926f567a6",
   "metadata": {},
   "outputs": [
    {
     "data": {
      "image/png": "[encoded data removed]",
      "text/plain": [
       "plot without title"
      ]
     },
     "metadata": {
      "image/png": {
       "height": 420,
       "width": 420
      }
     },
     "output_type": "display_data"
    }
   ],
   "source": [
    "ggplot(SleepStudy,\n",
    "       aes(x = Class,\n",
    "           y = Hours_slept,\n",
    "          fill = Class)) +\n",
    "geom_boxplot() +\n",
    "scale_fill_manual(values = c(\"red\", \"blue\")) +\n",
    "labs(title = \"Sleep study\",\n",
    "     x = \"Class\",\n",
    "     y = \"Hours slept\")"
   ]
  },
  {
   "cell_type": "code",
   "execution_count": 126,
   "id": "64ec04a8-c524-419f-87f2-8fb91fb25d51",
   "metadata": {},
   "outputs": [
    {
     "data": {
      "text/html": [
       "<table class=\"dataframe\">\n",
       "<caption>A tibble: 2 × 4</caption>\n",
       "<thead>\n",
       "\t<tr><th scope=col>Class</th><th scope=col>MeanHours</th><th scope=col>MedianHours</th><th scope=col>SdHours</th></tr>\n",
       "\t<tr><th scope=col>&lt;chr&gt;</th><th scope=col>&lt;dbl&gt;</th><th scope=col>&lt;dbl&gt;</th><th scope=col>&lt;dbl&gt;</th></tr>\n",
       "</thead>\n",
       "<tbody>\n",
       "\t<tr><td>Early</td><td>6.30</td><td>6.50</td><td>1.494434</td></tr>\n",
       "\t<tr><td>Late </td><td>7.15</td><td>7.25</td><td>1.001388</td></tr>\n",
       "</tbody>\n",
       "</table>\n"
      ],
      "text/latex": [
       "A tibble: 2 × 4\n",
       "\\begin{tabular}{llll}\n",
       " Class & MeanHours & MedianHours & SdHours\\\\\n",
       " <chr> & <dbl> & <dbl> & <dbl>\\\\\n",
       "\\hline\n",
       "\t Early & 6.30 & 6.50 & 1.494434\\\\\n",
       "\t Late  & 7.15 & 7.25 & 1.001388\\\\\n",
       "\\end{tabular}\n"
      ],
      "text/markdown": [
       "\n",
       "A tibble: 2 × 4\n",
       "\n",
       "| Class &lt;chr&gt; | MeanHours &lt;dbl&gt; | MedianHours &lt;dbl&gt; | SdHours &lt;dbl&gt; |\n",
       "|---|---|---|---|\n",
       "| Early | 6.30 | 6.50 | 1.494434 |\n",
       "| Late  | 7.15 | 7.25 | 1.001388 |\n",
       "\n"
      ],
      "text/plain": [
       "  Class MeanHours MedianHours SdHours \n",
       "1 Early 6.30      6.50        1.494434\n",
       "2 Late  7.15      7.25        1.001388"
      ]
     },
     "metadata": {},
     "output_type": "display_data"
    }
   ],
   "source": [
    "Table_sleep <- SleepStudy %>%\n",
    "group_by(Class) %>%\n",
    "summarize(MeanHours = mean(Hours_slept),\n",
    "MedianHours = median(Hours_slept),\n",
    "SdHours = sd(Hours_slept))\n",
    "Table_sleep"
   ]
  },
  {
   "cell_type": "code",
   "execution_count": 109,
   "id": "4dfc344f-4bc7-4080-b55b-13c75fa0ad15",
   "metadata": {},
   "outputs": [
    {
     "data": {
      "text/html": [
       "<table class=\"dataframe\">\n",
       "<caption>A tibble: 2 × 2</caption>\n",
       "<thead>\n",
       "\t<tr><th scope=col>Class</th><th scope=col>MeanHours</th></tr>\n",
       "\t<tr><th scope=col>&lt;chr&gt;</th><th scope=col>&lt;dbl&gt;</th></tr>\n",
       "</thead>\n",
       "<tbody>\n",
       "\t<tr><td>Early</td><td>6.30</td></tr>\n",
       "\t<tr><td>Late </td><td>7.15</td></tr>\n",
       "</tbody>\n",
       "</table>\n"
      ],
      "text/latex": [
       "A tibble: 2 × 2\n",
       "\\begin{tabular}{ll}\n",
       " Class & MeanHours\\\\\n",
       " <chr> & <dbl>\\\\\n",
       "\\hline\n",
       "\t Early & 6.30\\\\\n",
       "\t Late  & 7.15\\\\\n",
       "\\end{tabular}\n"
      ],
      "text/markdown": [
       "\n",
       "A tibble: 2 × 2\n",
       "\n",
       "| Class &lt;chr&gt; | MeanHours &lt;dbl&gt; |\n",
       "|---|---|\n",
       "| Early | 6.30 |\n",
       "| Late  | 7.15 |\n",
       "\n"
      ],
      "text/plain": [
       "  Class MeanHours\n",
       "1 Early 6.30     \n",
       "2 Late  7.15     "
      ]
     },
     "metadata": {},
     "output_type": "display_data"
    }
   ],
   "source": [
    "meanTable_sleep <- SleepStudy %>%\n",
    "group_by(Class) %>%\n",
    "summarize(MeanHours = mean(Hours_slept))\n",
    "meanTable_sleep"
   ]
  },
  {
   "cell_type": "code",
   "execution_count": 110,
   "id": "6d81e145-7275-4819-82fd-5cb44ff16305",
   "metadata": {},
   "outputs": [
    {
     "data": {
      "text/html": [
       "<table class=\"dataframe\">\n",
       "<caption>A tibble: 2 × 2</caption>\n",
       "<thead>\n",
       "\t<tr><th scope=col>Class</th><th scope=col>MedianHours</th></tr>\n",
       "\t<tr><th scope=col>&lt;chr&gt;</th><th scope=col>&lt;dbl&gt;</th></tr>\n",
       "</thead>\n",
       "<tbody>\n",
       "\t<tr><td>Early</td><td>6.50</td></tr>\n",
       "\t<tr><td>Late </td><td>7.25</td></tr>\n",
       "</tbody>\n",
       "</table>\n"
      ],
      "text/latex": [
       "A tibble: 2 × 2\n",
       "\\begin{tabular}{ll}\n",
       " Class & MedianHours\\\\\n",
       " <chr> & <dbl>\\\\\n",
       "\\hline\n",
       "\t Early & 6.50\\\\\n",
       "\t Late  & 7.25\\\\\n",
       "\\end{tabular}\n"
      ],
      "text/markdown": [
       "\n",
       "A tibble: 2 × 2\n",
       "\n",
       "| Class &lt;chr&gt; | MedianHours &lt;dbl&gt; |\n",
       "|---|---|\n",
       "| Early | 6.50 |\n",
       "| Late  | 7.25 |\n",
       "\n"
      ],
      "text/plain": [
       "  Class MedianHours\n",
       "1 Early 6.50       \n",
       "2 Late  7.25       "
      ]
     },
     "metadata": {},
     "output_type": "display_data"
    }
   ],
   "source": [
    "medianTable_sleep <- SleepStudy %>%\n",
    "group_by(Class) %>%\n",
    "summarize(MedianHours = median(Hours_slept))\n",
    "medianTable_sleep"
   ]
  },
  {
   "cell_type": "code",
   "execution_count": 111,
   "id": "33c78568-416f-45d3-8ee6-70c9881da816",
   "metadata": {},
   "outputs": [
    {
     "data": {
      "text/html": [
       "<table class=\"dataframe\">\n",
       "<caption>A tibble: 2 × 2</caption>\n",
       "<thead>\n",
       "\t<tr><th scope=col>Class</th><th scope=col>SdHours</th></tr>\n",
       "\t<tr><th scope=col>&lt;chr&gt;</th><th scope=col>&lt;dbl&gt;</th></tr>\n",
       "</thead>\n",
       "<tbody>\n",
       "\t<tr><td>Early</td><td>1.494434</td></tr>\n",
       "\t<tr><td>Late </td><td>1.001388</td></tr>\n",
       "</tbody>\n",
       "</table>\n"
      ],
      "text/latex": [
       "A tibble: 2 × 2\n",
       "\\begin{tabular}{ll}\n",
       " Class & SdHours\\\\\n",
       " <chr> & <dbl>\\\\\n",
       "\\hline\n",
       "\t Early & 1.494434\\\\\n",
       "\t Late  & 1.001388\\\\\n",
       "\\end{tabular}\n"
      ],
      "text/markdown": [
       "\n",
       "A tibble: 2 × 2\n",
       "\n",
       "| Class &lt;chr&gt; | SdHours &lt;dbl&gt; |\n",
       "|---|---|\n",
       "| Early | 1.494434 |\n",
       "| Late  | 1.001388 |\n",
       "\n"
      ],
      "text/plain": [
       "  Class SdHours \n",
       "1 Early 1.494434\n",
       "2 Late  1.001388"
      ]
     },
     "metadata": {},
     "output_type": "display_data"
    }
   ],
   "source": [
    "sdTable_sleep <- SleepStudy %>%\n",
    "group_by(Class) %>%\n",
    "summarize(SdHours = sd(Hours_slept))\n",
    "sdTable_sleep"
   ]
  },
  {
   "cell_type": "code",
   "execution_count": 116,
   "id": "0f358567-db98-439b-8ee1-79f2874a5ebb",
   "metadata": {},
   "outputs": [
    {
     "data": {
      "text/plain": [
       "\n",
       "\tWelch Two Sample t-test\n",
       "\n",
       "data:  early_hours and late_hours\n",
       "t = -1.4942, df = 15.726, p-value = 0.1549\n",
       "alternative hypothesis: true difference in means is not equal to 0\n",
       "95 percent confidence interval:\n",
       " -2.0576563  0.3576563\n",
       "sample estimates:\n",
       "mean of x mean of y \n",
       "     6.30      7.15 \n"
      ]
     },
     "metadata": {},
     "output_type": "display_data"
    }
   ],
   "source": [
    "t.test(early_hours, late_hours)"
   ]
  },
  {
   "cell_type": "code",
   "execution_count": 127,
   "id": "cb528c20-0703-4782-b173-f844dcd0975f",
   "metadata": {},
   "outputs": [],
   "source": [
    "var1 <- rnorm(50, 30, 10)\n",
    "var2 <- rnorm(50, 50, 5)"
   ]
  },
  {
   "cell_type": "code",
   "execution_count": 128,
   "id": "ae5ecd37-1e7e-4955-9f07-688223831991",
   "metadata": {},
   "outputs": [
    {
     "data": {
      "image/png": "[encoded data removed]",
      "text/plain": [
       "plot without title"
      ]
     },
     "metadata": {
      "image/png": {
       "height": 420,
       "width": 420
      }
     },
     "output_type": "display_data"
    }
   ],
   "source": [
    "plot(var1, var2)"
   ]
  },
  {
   "cell_type": "code",
   "execution_count": 129,
   "id": "0f1f326e-82cc-4ed2-bf8c-9f4ed08e5f4d",
   "metadata": {},
   "outputs": [
    {
     "data": {
      "image/png": "[encoded data removed]",
      "text/plain": [
       "plot without title"
      ]
     },
     "metadata": {
      "image/png": {
       "height": 420,
       "width": 420
      }
     },
     "output_type": "display_data"
    }
   ],
   "source": [
    "vars <- data.frame(var1, var2)\n",
    "ggplot(vars,\n",
    "       aes(x=var1,\n",
    "           y=var2))+\n",
    "geom_point()"
   ]
  },
  {
   "cell_type": "code",
   "execution_count": null,
   "id": "1dc3ee69-cb07-495d-8afd-94b2e3eefd8b",
   "metadata": {},
   "outputs": [],
   "source": []
  }
 ],
 "metadata": {
  "kernelspec": {
   "display_name": "R",
   "language": "R",
   "name": "ir"
  },
  "language_info": {
   "codemirror_mode": "r",
   "file_extension": ".r",
   "mimetype": "text/x-r-source",
   "name": "R",
   "pygments_lexer": "r",
   "version": "4.4.1"
  }
 },
 "nbformat": 4,
 "nbformat_minor": 5
}
